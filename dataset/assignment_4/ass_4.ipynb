{
 "cells": [
  {
   "cell_type": "code",
   "execution_count": 25,
   "metadata": {},
   "outputs": [],
   "source": [
    "import pandas as pd"
   ]
  },
  {
   "cell_type": "code",
   "execution_count": 26,
   "metadata": {},
   "outputs": [],
   "source": [
    "avg_df = pd.read_csv(\"./us_avg.csv\")\n",
    "min_df = pd.read_csv(\"./us_min.csv\")\n",
    "max_df = pd.read_csv(\"./us_max.csv\")"
   ]
  },
  {
   "cell_type": "code",
   "execution_count": 27,
   "metadata": {},
   "outputs": [],
   "source": [
    "avg_df = avg_df.drop(columns=[\"Anomaly\"])\n",
    "min_df = min_df.drop(columns=[\"Anomaly\"])\n",
    "max_df = max_df.drop(columns=[\"Anomaly\"])"
   ]
  },
  {
   "cell_type": "code",
   "execution_count": 28,
   "metadata": {},
   "outputs": [],
   "source": [
    "# columns to lowercase\n",
    "avg_df.columns = avg_df.columns.str.lower()\n",
    "min_df.columns = min_df.columns.str.lower()\n",
    "max_df.columns = max_df.columns.str.lower()"
   ]
  },
  {
   "cell_type": "code",
   "execution_count": 29,
   "metadata": {},
   "outputs": [],
   "source": [
    "avg_df[\"month\"] = avg_df[\"date\"] % 100  # 190001 -> 01\n",
    "avg_df[\"year\"] = avg_df[\"date\"] // 100  # 190001 -> 1900\n",
    "\n",
    "min_df[\"month\"] = min_df[\"date\"] % 100\n",
    "min_df[\"year\"] = min_df[\"date\"] // 100\n",
    "\n",
    "max_df[\"month\"] = max_df[\"date\"] % 100\n",
    "max_df[\"year\"] = max_df[\"date\"] // 100\n",
    "\n",
    "avg_df = avg_df.drop(columns=[\"date\"])\n",
    "min_df = min_df.drop(columns=[\"date\"])\n",
    "max_df = max_df.drop(columns=[\"date\"])"
   ]
  },
  {
   "cell_type": "code",
   "execution_count": 30,
   "metadata": {},
   "outputs": [],
   "source": [
    "# reorder columns\n",
    "avg_df = avg_df[['year', 'month', 'value']]\n",
    "min_df = min_df[['year', 'month', 'value']]\n",
    "max_df = max_df[['year', 'month', 'value']]"
   ]
  },
  {
   "cell_type": "code",
   "execution_count": 31,
   "metadata": {},
   "outputs": [],
   "source": [
    "# rename value to farenheit\n",
    "avg_df = avg_df.rename(columns={\"value\": \"fahrenheit\"})\n",
    "min_df = min_df.rename(columns={\"value\": \"fahrenheit\"})\n",
    "max_df = max_df.rename(columns={\"value\": \"fahrenheit\"})"
   ]
  },
  {
   "cell_type": "code",
   "execution_count": null,
   "metadata": {},
   "outputs": [],
   "source": [
    "# # add che celsius column\n",
    "# avg_df[\"celsius\"] = ((avg_df[\"fahrenheit\"] - 32) * 5 / 9).round(2)\n",
    "# min_df[\"celsius\"] = ((min_df[\"fahrenheit\"] - 32) * 5 / 9).round(2)\n",
    "# max_df[\"celsius\"] = ((max_df[\"fahrenheit\"] - 32) * 5 / 9).round(2)"
   ]
  },
  {
   "cell_type": "code",
   "execution_count": 33,
   "metadata": {},
   "outputs": [],
   "source": [
    "# ensure the columns is a number\n",
    "avg_df['fahrenheit'] = pd.to_numeric(avg_df['fahrenheit'], errors='coerce')\n",
    "min_df['fahrenheit'] = pd.to_numeric(min_df['fahrenheit'], errors='coerce')\n",
    "max_df['fahrenheit'] = pd.to_numeric(max_df['fahrenheit'], errors='coerce')"
   ]
  },
  {
   "cell_type": "code",
   "execution_count": 34,
   "metadata": {},
   "outputs": [
    {
     "name": "stdout",
     "output_type": "stream",
     "text": [
      "<class 'pandas.core.frame.DataFrame'>\n",
      "RangeIndex: 1499 entries, 0 to 1498\n",
      "Data columns (total 3 columns):\n",
      " #   Column      Non-Null Count  Dtype  \n",
      "---  ------      --------------  -----  \n",
      " 0   year        1499 non-null   int64  \n",
      " 1   month       1499 non-null   int64  \n",
      " 2   fahrenheit  1499 non-null   float64\n",
      "dtypes: float64(1), int64(2)\n",
      "memory usage: 35.3 KB\n"
     ]
    }
   ],
   "source": [
    "avg_df.info()"
   ]
  },
  {
   "cell_type": "code",
   "execution_count": 35,
   "metadata": {},
   "outputs": [
    {
     "name": "stdout",
     "output_type": "stream",
     "text": [
      "<class 'pandas.core.frame.DataFrame'>\n",
      "RangeIndex: 1499 entries, 0 to 1498\n",
      "Data columns (total 3 columns):\n",
      " #   Column      Non-Null Count  Dtype  \n",
      "---  ------      --------------  -----  \n",
      " 0   year        1499 non-null   int64  \n",
      " 1   month       1499 non-null   int64  \n",
      " 2   fahrenheit  1499 non-null   float64\n",
      "dtypes: float64(1), int64(2)\n",
      "memory usage: 35.3 KB\n"
     ]
    }
   ],
   "source": [
    "min_df.info()"
   ]
  },
  {
   "cell_type": "code",
   "execution_count": 36,
   "metadata": {},
   "outputs": [
    {
     "name": "stdout",
     "output_type": "stream",
     "text": [
      "<class 'pandas.core.frame.DataFrame'>\n",
      "RangeIndex: 1499 entries, 0 to 1498\n",
      "Data columns (total 3 columns):\n",
      " #   Column      Non-Null Count  Dtype  \n",
      "---  ------      --------------  -----  \n",
      " 0   year        1499 non-null   int64  \n",
      " 1   month       1499 non-null   int64  \n",
      " 2   fahrenheit  1499 non-null   float64\n",
      "dtypes: float64(1), int64(2)\n",
      "memory usage: 35.3 KB\n"
     ]
    }
   ],
   "source": [
    "max_df.info()"
   ]
  },
  {
   "cell_type": "code",
   "execution_count": 37,
   "metadata": {},
   "outputs": [],
   "source": [
    "avg_df.to_csv(\"us_avg_clean.csv\", index=False)\n",
    "min_df.to_csv(\"us_min_clean.csv\", index=False)\n",
    "max_df.to_csv(\"us_max_clean.csv\", index=False)"
   ]
  }
 ],
 "metadata": {
  "kernelspec": {
   "display_name": "base",
   "language": "python",
   "name": "python3"
  },
  "language_info": {
   "codemirror_mode": {
    "name": "ipython",
    "version": 3
   },
   "file_extension": ".py",
   "mimetype": "text/x-python",
   "name": "python",
   "nbconvert_exporter": "python",
   "pygments_lexer": "ipython3",
   "version": "3.12.3"
  }
 },
 "nbformat": 4,
 "nbformat_minor": 2
}

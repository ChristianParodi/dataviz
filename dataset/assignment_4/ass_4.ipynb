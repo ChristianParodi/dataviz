{
 "cells": [
  {
   "cell_type": "code",
   "execution_count": 2,
   "metadata": {},
   "outputs": [],
   "source": [
    "import pandas as pd"
   ]
  },
  {
   "cell_type": "code",
   "execution_count": 8,
   "metadata": {},
   "outputs": [
    {
     "data": {
      "text/html": [
       "<div>\n",
       "<style scoped>\n",
       "    .dataframe tbody tr th:only-of-type {\n",
       "        vertical-align: middle;\n",
       "    }\n",
       "\n",
       "    .dataframe tbody tr th {\n",
       "        vertical-align: top;\n",
       "    }\n",
       "\n",
       "    .dataframe thead th {\n",
       "        text-align: right;\n",
       "    }\n",
       "</style>\n",
       "<table border=\"1\" class=\"dataframe\">\n",
       "  <thead>\n",
       "    <tr style=\"text-align: right;\">\n",
       "      <th></th>\n",
       "      <th>code</th>\n",
       "      <th>country</th>\n",
       "    </tr>\n",
       "  </thead>\n",
       "  <tbody>\n",
       "    <tr>\n",
       "      <th>0</th>\n",
       "      <td>1</td>\n",
       "      <td>Alabama</td>\n",
       "    </tr>\n",
       "    <tr>\n",
       "      <th>1</th>\n",
       "      <td>2</td>\n",
       "      <td>Arizona</td>\n",
       "    </tr>\n",
       "    <tr>\n",
       "      <th>2</th>\n",
       "      <td>3</td>\n",
       "      <td>Arkansas</td>\n",
       "    </tr>\n",
       "    <tr>\n",
       "      <th>3</th>\n",
       "      <td>4</td>\n",
       "      <td>California</td>\n",
       "    </tr>\n",
       "    <tr>\n",
       "      <th>4</th>\n",
       "      <td>5</td>\n",
       "      <td>Colorado</td>\n",
       "    </tr>\n",
       "  </tbody>\n",
       "</table>\n",
       "</div>"
      ],
      "text/plain": [
       "   code      country\n",
       "0     1      Alabama\n",
       "1     2      Arizona\n",
       "2     3     Arkansas\n",
       "3     4   California\n",
       "4     5     Colorado"
      ]
     },
     "execution_count": 8,
     "metadata": {},
     "output_type": "execute_result"
    }
   ],
   "source": [
    "state_codes = pd.read_csv(\"./state_codes.csv\")\n",
    "state_codes.head()"
   ]
  },
  {
   "cell_type": "code",
   "execution_count": 9,
   "metadata": {},
   "outputs": [
    {
     "data": {
      "text/html": [
       "<div>\n",
       "<style scoped>\n",
       "    .dataframe tbody tr th:only-of-type {\n",
       "        vertical-align: middle;\n",
       "    }\n",
       "\n",
       "    .dataframe tbody tr th {\n",
       "        vertical-align: top;\n",
       "    }\n",
       "\n",
       "    .dataframe thead th {\n",
       "        text-align: right;\n",
       "    }\n",
       "</style>\n",
       "<table border=\"1\" class=\"dataframe\">\n",
       "  <thead>\n",
       "    <tr style=\"text-align: right;\">\n",
       "      <th></th>\n",
       "      <th>code</th>\n",
       "      <th>jan</th>\n",
       "      <th>feb</th>\n",
       "      <th>mar</th>\n",
       "      <th>apr</th>\n",
       "      <th>may</th>\n",
       "      <th>jun</th>\n",
       "      <th>jul</th>\n",
       "      <th>aug</th>\n",
       "      <th>sep</th>\n",
       "      <th>oct</th>\n",
       "      <th>nov</th>\n",
       "      <th>dec</th>\n",
       "    </tr>\n",
       "  </thead>\n",
       "  <tbody>\n",
       "    <tr>\n",
       "      <th>0</th>\n",
       "      <td>10021895</td>\n",
       "      <td>43.1</td>\n",
       "      <td>37.4</td>\n",
       "      <td>54.5</td>\n",
       "      <td>63.4</td>\n",
       "      <td>69.5</td>\n",
       "      <td>77.5</td>\n",
       "      <td>79.2</td>\n",
       "      <td>79.5</td>\n",
       "      <td>77.8</td>\n",
       "      <td>59.7</td>\n",
       "      <td>53.2</td>\n",
       "      <td>44.9</td>\n",
       "    </tr>\n",
       "    <tr>\n",
       "      <th>1</th>\n",
       "      <td>10021896</td>\n",
       "      <td>43.5</td>\n",
       "      <td>47.7</td>\n",
       "      <td>52.5</td>\n",
       "      <td>68.0</td>\n",
       "      <td>75.9</td>\n",
       "      <td>77.4</td>\n",
       "      <td>81.2</td>\n",
       "      <td>82.2</td>\n",
       "      <td>75.9</td>\n",
       "      <td>63.2</td>\n",
       "      <td>57.3</td>\n",
       "      <td>46.4</td>\n",
       "    </tr>\n",
       "    <tr>\n",
       "      <th>2</th>\n",
       "      <td>10021897</td>\n",
       "      <td>41.8</td>\n",
       "      <td>51.1</td>\n",
       "      <td>60.2</td>\n",
       "      <td>62.4</td>\n",
       "      <td>69.0</td>\n",
       "      <td>81.2</td>\n",
       "      <td>81.5</td>\n",
       "      <td>78.8</td>\n",
       "      <td>75.6</td>\n",
       "      <td>67.1</td>\n",
       "      <td>54.2</td>\n",
       "      <td>47.4</td>\n",
       "    </tr>\n",
       "    <tr>\n",
       "      <th>3</th>\n",
       "      <td>10021898</td>\n",
       "      <td>49.0</td>\n",
       "      <td>46.1</td>\n",
       "      <td>59.2</td>\n",
       "      <td>58.8</td>\n",
       "      <td>74.1</td>\n",
       "      <td>80.4</td>\n",
       "      <td>80.0</td>\n",
       "      <td>78.8</td>\n",
       "      <td>75.2</td>\n",
       "      <td>61.0</td>\n",
       "      <td>49.8</td>\n",
       "      <td>43.4</td>\n",
       "    </tr>\n",
       "    <tr>\n",
       "      <th>4</th>\n",
       "      <td>10021899</td>\n",
       "      <td>43.8</td>\n",
       "      <td>40.0</td>\n",
       "      <td>55.6</td>\n",
       "      <td>61.7</td>\n",
       "      <td>76.1</td>\n",
       "      <td>79.9</td>\n",
       "      <td>80.4</td>\n",
       "      <td>80.9</td>\n",
       "      <td>72.8</td>\n",
       "      <td>66.0</td>\n",
       "      <td>55.3</td>\n",
       "      <td>44.7</td>\n",
       "    </tr>\n",
       "  </tbody>\n",
       "</table>\n",
       "</div>"
      ],
      "text/plain": [
       "       code   jan   feb   mar   apr   may   jun   jul   aug   sep   oct   nov  \\\n",
       "0  10021895  43.1  37.4  54.5  63.4  69.5  77.5  79.2  79.5  77.8  59.7  53.2   \n",
       "1  10021896  43.5  47.7  52.5  68.0  75.9  77.4  81.2  82.2  75.9  63.2  57.3   \n",
       "2  10021897  41.8  51.1  60.2  62.4  69.0  81.2  81.5  78.8  75.6  67.1  54.2   \n",
       "3  10021898  49.0  46.1  59.2  58.8  74.1  80.4  80.0  78.8  75.2  61.0  49.8   \n",
       "4  10021899  43.8  40.0  55.6  61.7  76.1  79.9  80.4  80.9  72.8  66.0  55.3   \n",
       "\n",
       "    dec  \n",
       "0  44.9  \n",
       "1  46.4  \n",
       "2  47.4  \n",
       "3  43.4  \n",
       "4  44.7  "
      ]
     },
     "execution_count": 9,
     "metadata": {},
     "output_type": "execute_result"
    }
   ],
   "source": [
    "avg_df = pd.read_csv(\"./avg_states.csv\")\n",
    "min_df = pd.read_csv(\"./min_states.csv\")\n",
    "max_df = pd.read_csv(\"./max_states.csv\")\n",
    "avg_df.head()"
   ]
  },
  {
   "cell_type": "markdown",
   "metadata": {},
   "source": [
    "10021895\n",
    "\n",
    "100 -> country code\n",
    "2 -> division"
   ]
  },
  {
   "cell_type": "code",
   "execution_count": 27,
   "metadata": {},
   "outputs": [],
   "source": [
    "avg_df = avg_df.drop(columns=[\"Anomaly\"])\n",
    "min_df = min_df.drop(columns=[\"Anomaly\"])\n",
    "max_df = max_df.drop(columns=[\"Anomaly\"])"
   ]
  },
  {
   "cell_type": "code",
   "execution_count": 28,
   "metadata": {},
   "outputs": [],
   "source": [
    "# columns to lowercase\n",
    "avg_df.columns = avg_df.columns.str.lower()\n",
    "min_df.columns = min_df.columns.str.lower()\n",
    "max_df.columns = max_df.columns.str.lower()"
   ]
  },
  {
   "cell_type": "code",
   "execution_count": 29,
   "metadata": {},
   "outputs": [],
   "source": [
    "avg_df[\"month\"] = avg_df[\"date\"] % 100  # 190001 -> 01\n",
    "avg_df[\"year\"] = avg_df[\"date\"] // 100  # 190001 -> 1900\n",
    "\n",
    "min_df[\"month\"] = min_df[\"date\"] % 100\n",
    "min_df[\"year\"] = min_df[\"date\"] // 100\n",
    "\n",
    "max_df[\"month\"] = max_df[\"date\"] % 100\n",
    "max_df[\"year\"] = max_df[\"date\"] // 100\n",
    "\n",
    "avg_df = avg_df.drop(columns=[\"date\"])\n",
    "min_df = min_df.drop(columns=[\"date\"])\n",
    "max_df = max_df.drop(columns=[\"date\"])"
   ]
  },
  {
   "cell_type": "code",
   "execution_count": 30,
   "metadata": {},
   "outputs": [],
   "source": [
    "# reorder columns\n",
    "avg_df = avg_df[['year', 'month', 'value']]\n",
    "min_df = min_df[['year', 'month', 'value']]\n",
    "max_df = max_df[['year', 'month', 'value']]"
   ]
  },
  {
   "cell_type": "code",
   "execution_count": 31,
   "metadata": {},
   "outputs": [],
   "source": [
    "# rename value to farenheit\n",
    "avg_df = avg_df.rename(columns={\"value\": \"fahrenheit\"})\n",
    "min_df = min_df.rename(columns={\"value\": \"fahrenheit\"})\n",
    "max_df = max_df.rename(columns={\"value\": \"fahrenheit\"})"
   ]
  },
  {
   "cell_type": "code",
   "execution_count": null,
   "metadata": {},
   "outputs": [],
   "source": [
    "# # add che celsius column\n",
    "# avg_df[\"celsius\"] = ((avg_df[\"fahrenheit\"] - 32) * 5 / 9).round(2)\n",
    "# min_df[\"celsius\"] = ((min_df[\"fahrenheit\"] - 32) * 5 / 9).round(2)\n",
    "# max_df[\"celsius\"] = ((max_df[\"fahrenheit\"] - 32) * 5 / 9).round(2)"
   ]
  },
  {
   "cell_type": "code",
   "execution_count": 33,
   "metadata": {},
   "outputs": [],
   "source": [
    "# ensure the columns is a number\n",
    "avg_df['fahrenheit'] = pd.to_numeric(avg_df['fahrenheit'], errors='coerce')\n",
    "min_df['fahrenheit'] = pd.to_numeric(min_df['fahrenheit'], errors='coerce')\n",
    "max_df['fahrenheit'] = pd.to_numeric(max_df['fahrenheit'], errors='coerce')"
   ]
  },
  {
   "cell_type": "code",
   "execution_count": 34,
   "metadata": {},
   "outputs": [
    {
     "name": "stdout",
     "output_type": "stream",
     "text": [
      "<class 'pandas.core.frame.DataFrame'>\n",
      "RangeIndex: 1499 entries, 0 to 1498\n",
      "Data columns (total 3 columns):\n",
      " #   Column      Non-Null Count  Dtype  \n",
      "---  ------      --------------  -----  \n",
      " 0   year        1499 non-null   int64  \n",
      " 1   month       1499 non-null   int64  \n",
      " 2   fahrenheit  1499 non-null   float64\n",
      "dtypes: float64(1), int64(2)\n",
      "memory usage: 35.3 KB\n"
     ]
    }
   ],
   "source": [
    "avg_df.info()"
   ]
  },
  {
   "cell_type": "code",
   "execution_count": 35,
   "metadata": {},
   "outputs": [
    {
     "name": "stdout",
     "output_type": "stream",
     "text": [
      "<class 'pandas.core.frame.DataFrame'>\n",
      "RangeIndex: 1499 entries, 0 to 1498\n",
      "Data columns (total 3 columns):\n",
      " #   Column      Non-Null Count  Dtype  \n",
      "---  ------      --------------  -----  \n",
      " 0   year        1499 non-null   int64  \n",
      " 1   month       1499 non-null   int64  \n",
      " 2   fahrenheit  1499 non-null   float64\n",
      "dtypes: float64(1), int64(2)\n",
      "memory usage: 35.3 KB\n"
     ]
    }
   ],
   "source": [
    "min_df.info()"
   ]
  },
  {
   "cell_type": "code",
   "execution_count": 36,
   "metadata": {},
   "outputs": [
    {
     "name": "stdout",
     "output_type": "stream",
     "text": [
      "<class 'pandas.core.frame.DataFrame'>\n",
      "RangeIndex: 1499 entries, 0 to 1498\n",
      "Data columns (total 3 columns):\n",
      " #   Column      Non-Null Count  Dtype  \n",
      "---  ------      --------------  -----  \n",
      " 0   year        1499 non-null   int64  \n",
      " 1   month       1499 non-null   int64  \n",
      " 2   fahrenheit  1499 non-null   float64\n",
      "dtypes: float64(1), int64(2)\n",
      "memory usage: 35.3 KB\n"
     ]
    }
   ],
   "source": [
    "max_df.info()"
   ]
  },
  {
   "cell_type": "code",
   "execution_count": 37,
   "metadata": {},
   "outputs": [],
   "source": [
    "avg_df.to_csv(\"us_avg_clean.csv\", index=False)\n",
    "min_df.to_csv(\"us_min_clean.csv\", index=False)\n",
    "max_df.to_csv(\"us_max_clean.csv\", index=False)"
   ]
  }
 ],
 "metadata": {
  "kernelspec": {
   "display_name": "base",
   "language": "python",
   "name": "python3"
  },
  "language_info": {
   "codemirror_mode": {
    "name": "ipython",
    "version": 3
   },
   "file_extension": ".py",
   "mimetype": "text/x-python",
   "name": "python",
   "nbconvert_exporter": "python",
   "pygments_lexer": "ipython3",
   "version": "3.12.3"
  }
 },
 "nbformat": 4,
 "nbformat_minor": 2
}

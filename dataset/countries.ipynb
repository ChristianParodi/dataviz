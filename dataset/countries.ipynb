{
 "cells": [
  {
   "cell_type": "code",
   "execution_count": 52,
   "metadata": {},
   "outputs": [],
   "source": [
    "import pandas as pd"
   ]
  },
  {
   "cell_type": "code",
   "execution_count": null,
   "metadata": {},
   "outputs": [],
   "source": [
    "import geopandas\n",
    "df = geopandas.read_file(\"world.geojson\")"
   ]
  },
  {
   "cell_type": "code",
   "execution_count": 61,
   "metadata": {},
   "outputs": [],
   "source": [
    "map_countries = df.name.unique()\n",
    "# pd.DataFrame(map_countries).to_csv(\"map_countries.csv\", index=False)"
   ]
  },
  {
   "cell_type": "code",
   "execution_count": 59,
   "metadata": {},
   "outputs": [
    {
     "name": "stdout",
     "output_type": "stream",
     "text": [
      "<class 'pandas.core.series.Series'>\n",
      "RangeIndex: 211 entries, 0 to 210\n",
      "Series name: Country\n",
      "Non-Null Count  Dtype \n",
      "--------------  ----- \n",
      "211 non-null    object\n",
      "dtypes: object(1)\n",
      "memory usage: 1.8+ KB\n"
     ]
    }
   ],
   "source": [
    "emissions_countries = pd.read_csv('emissions_2022_total.csv')['Country']\n",
    "emissions_countries.info()"
   ]
  },
  {
   "cell_type": "code",
   "execution_count": 62,
   "metadata": {},
   "outputs": [
    {
     "name": "stdout",
     "output_type": "stream",
     "text": [
      "55\n"
     ]
    }
   ],
   "source": [
    "missing = []\n",
    "for country in emissions_countries:\n",
    "\tif country not in map_countries:\n",
    "\t\tmissing.append(country)\n",
    "  \n",
    "print(len(missing))"
   ]
  },
  {
   "cell_type": "code",
   "execution_count": 31,
   "metadata": {},
   "outputs": [
    {
     "name": "stdout",
     "output_type": "stream",
     "text": [
      "<class 'pandas.core.series.Series'>\n",
      "RangeIndex: 177 entries, 0 to 176\n",
      "Series name: name\n",
      "Non-Null Count  Dtype \n",
      "--------------  ----- \n",
      "177 non-null    object\n",
      "dtypes: object(1)\n",
      "memory usage: 1.5+ KB\n"
     ]
    }
   ],
   "source": [
    "map_countries.info()"
   ]
  },
  {
   "cell_type": "code",
   "execution_count": 20,
   "metadata": {},
   "outputs": [
    {
     "name": "stdout",
     "output_type": "stream",
     "text": [
      "Bahrain\n",
      "United States\n",
      "Sint Maarten (Dutch part)\n",
      "Faroe Islands\n",
      "Palau\n",
      "Saint Pierre and Miquelon\n",
      "Czechia\n",
      "Curacao\n",
      "Singapore\n",
      "Anguilla\n",
      "Aruba\n",
      "Turks and Caicos Islands\n",
      "Bermuda\n",
      "Antigua and Barbuda\n",
      "Seychelles\n",
      "Serbia\n",
      "Bahamas\n",
      "British Virgin Islands\n",
      "Montserrat\n",
      "United Kingdom\n",
      "Saint Kitts and Nevis\n",
      "Andorra\n",
      "Barbados\n",
      "Nauru\n",
      "Hong Kong\n",
      "Cook Islands\n",
      "Niue\n",
      "Liechtenstein\n",
      "Marshall Islands\n",
      "North Macedonia\n",
      "Mauritius\n",
      "Maldives\n",
      "Malta\n",
      "French Polynesia\n",
      "Grenada\n",
      "Saint Lucia\n",
      "Saint Vincent and the Grenadines\n",
      "Wallis and Futuna\n",
      "Dominica\n",
      "Tonga\n",
      "Macao\n",
      "Micronesia\n",
      "Congo\n",
      "Samoa\n",
      "Eswatini\n",
      "Tuvalu\n",
      "Cape Verde\n",
      "Palestine\n",
      "Sao Tome and Principe\n",
      "Kiribati\n",
      "Comoros\n",
      "Cote d'Ivoire\n",
      "Tanzania\n",
      "Guinea-Bissau\n",
      "Democratic Republic of Congo\n"
     ]
    }
   ],
   "source": [
    "for country in missing:\n",
    "\tprint(country)"
   ]
  },
  {
   "cell_type": "code",
   "execution_count": 65,
   "metadata": {},
   "outputs": [
    {
     "name": "stdout",
     "output_type": "stream",
     "text": [
      "<class 'pandas.core.frame.DataFrame'>\n",
      "RangeIndex: 177 entries, 0 to 176\n",
      "Data columns (total 1 columns):\n",
      " #   Column  Non-Null Count  Dtype \n",
      "---  ------  --------------  ----- \n",
      " 0   0       177 non-null    object\n",
      "dtypes: object(1)\n",
      "memory usage: 1.5+ KB\n"
     ]
    }
   ],
   "source": [
    "pd.DataFrame(map_countries).info()"
   ]
  },
  {
   "cell_type": "code",
   "execution_count": 67,
   "metadata": {},
   "outputs": [
    {
     "name": "stdout",
     "output_type": "stream",
     "text": [
      "                          Country matched_country\n",
      "0                           Qatar            None\n",
      "1            United Arab Emirates            None\n",
      "2                         Bahrain            None\n",
      "3                          Kuwait            None\n",
      "4                          Brunei            None\n",
      "..                            ...             ...\n",
      "206                        Malawi            None\n",
      "207                       Burundi            None\n",
      "208      Central African Republic            None\n",
      "209                       Somalia            None\n",
      "210  Democratic Republic of Congo            None\n",
      "\n",
      "[211 rows x 2 columns]\n"
     ]
    }
   ],
   "source": [
    "from rapidfuzz import process, fuzz\n",
    "\n",
    "# Esempio di DataFrame\n",
    "data1 = emissions_countries\n",
    "data2 = map_countries\n",
    "\n",
    "df1 = pd.DataFrame(data1)\n",
    "df2 = pd.DataFrame(data2)\n",
    "\n",
    "# Funzione per trovare corrispondenze\n",
    "def match_countries(country, choices, scorer=fuzz.ratio, threshold=80):\n",
    "    # Usa rapidfuzz per trovare la corrispondenza più vicina\n",
    "    match = process.extractOne(country, choices, scorer=scorer)\n",
    "    if match and match[1] >= threshold:  # Controlla il livello di similarità\n",
    "        return match[0]  # Ritorna il paese che corrisponde meglio\n",
    "    return None\n",
    "\n",
    "# Applica la funzione a ogni paese di df1\n",
    "df1['matched_country'] = df1['Country'].apply(\n",
    "    lambda x: match_countries(x, df2, threshold=85)  # Soglia di similarità\n",
    ")\n",
    "\n",
    "# Visualizza il risultato\n",
    "print(df1)\n",
    "\n"
   ]
  },
  {
   "cell_type": "code",
   "execution_count": 51,
   "metadata": {},
   "outputs": [
    {
     "name": "stdout",
     "output_type": "stream",
     "text": [
      "<class 'pandas.core.frame.DataFrame'>\n",
      "RangeIndex: 177 entries, 0 to 176\n",
      "Data columns (total 2 columns):\n",
      " #   Column           Non-Null Count  Dtype \n",
      "---  ------           --------------  ----- \n",
      " 0   name             177 non-null    object\n",
      " 1   matched_country  158 non-null    object\n",
      "dtypes: object(2)\n",
      "memory usage: 2.9+ KB\n"
     ]
    },
    {
     "data": {
      "text/plain": [
       "0"
      ]
     },
     "execution_count": 51,
     "metadata": {},
     "output_type": "execute_result"
    }
   ],
   "source": [
    "df1.info()\n",
    "\n",
    "sum(df1['matched_country']=='United States')"
   ]
  }
 ],
 "metadata": {
  "kernelspec": {
   "display_name": "base",
   "language": "python",
   "name": "python3"
  },
  "language_info": {
   "codemirror_mode": {
    "name": "ipython",
    "version": 3
   },
   "file_extension": ".py",
   "mimetype": "text/x-python",
   "name": "python",
   "nbconvert_exporter": "python",
   "pygments_lexer": "ipython3",
   "version": "3.11.5"
  }
 },
 "nbformat": 4,
 "nbformat_minor": 2
}

{
 "cells": [
  {
   "cell_type": "markdown",
   "metadata": {},
   "source": [
    "<h1>Dataset cleaning</h1>"
   ]
  },
  {
   "cell_type": "code",
   "execution_count": 1,
   "metadata": {},
   "outputs": [],
   "source": [
    "import pandas as pd"
   ]
  },
  {
   "cell_type": "code",
   "execution_count": 2,
   "metadata": {},
   "outputs": [
    {
     "name": "stdout",
     "output_type": "stream",
     "text": [
      "<class 'pandas.core.frame.DataFrame'>\n",
      "RangeIndex: 26600 entries, 0 to 26599\n",
      "Data columns (total 4 columns):\n",
      " #   Column                             Non-Null Count  Dtype  \n",
      "---  ------                             --------------  -----  \n",
      " 0   Entity                             26600 non-null  object \n",
      " 1   Code                               23046 non-null  object \n",
      " 2   Year                               26600 non-null  int64  \n",
      " 3   Annual CO₂ emissions (per capita)  26600 non-null  float64\n",
      "dtypes: float64(1), int64(1), object(2)\n",
      "memory usage: 831.4+ KB\n"
     ]
    }
   ],
   "source": [
    "emissions = pd.read_csv('co-emissions-per-capita.csv')\n",
    "emissions.info()"
   ]
  },
  {
   "cell_type": "code",
   "execution_count": 3,
   "metadata": {},
   "outputs": [
    {
     "data": {
      "text/html": [
       "<div>\n",
       "<style scoped>\n",
       "    .dataframe tbody tr th:only-of-type {\n",
       "        vertical-align: middle;\n",
       "    }\n",
       "\n",
       "    .dataframe tbody tr th {\n",
       "        vertical-align: top;\n",
       "    }\n",
       "\n",
       "    .dataframe thead th {\n",
       "        text-align: right;\n",
       "    }\n",
       "</style>\n",
       "<table border=\"1\" class=\"dataframe\">\n",
       "  <thead>\n",
       "    <tr style=\"text-align: right;\">\n",
       "      <th></th>\n",
       "      <th>Entity</th>\n",
       "      <th>Code</th>\n",
       "      <th>Year</th>\n",
       "      <th>CO2</th>\n",
       "    </tr>\n",
       "  </thead>\n",
       "  <tbody>\n",
       "    <tr>\n",
       "      <th>0</th>\n",
       "      <td>Afghanistan</td>\n",
       "      <td>AFG</td>\n",
       "      <td>1949</td>\n",
       "      <td>0.001992</td>\n",
       "    </tr>\n",
       "    <tr>\n",
       "      <th>1</th>\n",
       "      <td>Afghanistan</td>\n",
       "      <td>AFG</td>\n",
       "      <td>1950</td>\n",
       "      <td>0.011266</td>\n",
       "    </tr>\n",
       "    <tr>\n",
       "      <th>2</th>\n",
       "      <td>Afghanistan</td>\n",
       "      <td>AFG</td>\n",
       "      <td>1951</td>\n",
       "      <td>0.012098</td>\n",
       "    </tr>\n",
       "    <tr>\n",
       "      <th>3</th>\n",
       "      <td>Afghanistan</td>\n",
       "      <td>AFG</td>\n",
       "      <td>1952</td>\n",
       "      <td>0.011946</td>\n",
       "    </tr>\n",
       "    <tr>\n",
       "      <th>4</th>\n",
       "      <td>Afghanistan</td>\n",
       "      <td>AFG</td>\n",
       "      <td>1953</td>\n",
       "      <td>0.013685</td>\n",
       "    </tr>\n",
       "  </tbody>\n",
       "</table>\n",
       "</div>"
      ],
      "text/plain": [
       "        Entity Code  Year       CO2\n",
       "0  Afghanistan  AFG  1949  0.001992\n",
       "1  Afghanistan  AFG  1950  0.011266\n",
       "2  Afghanistan  AFG  1951  0.012098\n",
       "3  Afghanistan  AFG  1952  0.011946\n",
       "4  Afghanistan  AFG  1953  0.013685"
      ]
     },
     "execution_count": 3,
     "metadata": {},
     "output_type": "execute_result"
    }
   ],
   "source": [
    "emissions = emissions.rename(columns={\"Annual CO₂ emissions (per capita)\": \"CO2\"})\n",
    "emissions.head()"
   ]
  },
  {
   "cell_type": "code",
   "execution_count": 4,
   "metadata": {},
   "outputs": [],
   "source": [
    "micro_idx = (emissions['Entity']=='Micronesia (country)').fillna(False)\n",
    "wrl_inx = emissions['Code'].str.contains('OWID_WRL', na=False)\n",
    "kos_inx = emissions['Code'].str.contains('OWID_KOS', na=False)\n",
    "emissions.loc[micro_idx, 'Entity'] = 'Micronesia'\n",
    "emissions.loc[wrl_inx, 'Code'] = 'WRL'\n",
    "emissions.loc[kos_inx, 'Code'] = 'KOS'"
   ]
  },
  {
   "cell_type": "code",
   "execution_count": 5,
   "metadata": {},
   "outputs": [
    {
     "data": {
      "text/plain": [
       "array(['Africa', 'Asia', 'Asia (excl. China and India)', 'Europe',\n",
       "       'Europe (excl. EU-27)', 'Europe (excl. EU-28)',\n",
       "       'European Union (27)', 'European Union (28)',\n",
       "       'High-income countries', 'Low-income countries',\n",
       "       'Lower-middle-income countries', 'North America',\n",
       "       'North America (excl. USA)', 'Oceania', 'South America',\n",
       "       'Upper-middle-income countries', 'World'], dtype=object)"
      ]
     },
     "execution_count": 5,
     "metadata": {},
     "output_type": "execute_result"
    }
   ],
   "source": [
    "emissions_not_countries = emissions[(emissions['Code'].isnull()) | (emissions['Code']=='WRL')]\n",
    "emissions_not_countries['Entity'].unique()"
   ]
  },
  {
   "cell_type": "code",
   "execution_count": 6,
   "metadata": {},
   "outputs": [
    {
     "data": {
      "text/html": [
       "<div>\n",
       "<style scoped>\n",
       "    .dataframe tbody tr th:only-of-type {\n",
       "        vertical-align: middle;\n",
       "    }\n",
       "\n",
       "    .dataframe tbody tr th {\n",
       "        vertical-align: top;\n",
       "    }\n",
       "\n",
       "    .dataframe thead th {\n",
       "        text-align: right;\n",
       "    }\n",
       "</style>\n",
       "<table border=\"1\" class=\"dataframe\">\n",
       "  <thead>\n",
       "    <tr style=\"text-align: right;\">\n",
       "      <th></th>\n",
       "      <th>Country</th>\n",
       "      <th>Code</th>\n",
       "      <th>Year</th>\n",
       "      <th>CO2</th>\n",
       "    </tr>\n",
       "  </thead>\n",
       "  <tbody>\n",
       "    <tr>\n",
       "      <th>0</th>\n",
       "      <td>Afghanistan</td>\n",
       "      <td>AFG</td>\n",
       "      <td>1949</td>\n",
       "      <td>0.001992</td>\n",
       "    </tr>\n",
       "    <tr>\n",
       "      <th>1</th>\n",
       "      <td>Afghanistan</td>\n",
       "      <td>AFG</td>\n",
       "      <td>1950</td>\n",
       "      <td>0.011266</td>\n",
       "    </tr>\n",
       "    <tr>\n",
       "      <th>2</th>\n",
       "      <td>Afghanistan</td>\n",
       "      <td>AFG</td>\n",
       "      <td>1951</td>\n",
       "      <td>0.012098</td>\n",
       "    </tr>\n",
       "    <tr>\n",
       "      <th>3</th>\n",
       "      <td>Afghanistan</td>\n",
       "      <td>AFG</td>\n",
       "      <td>1952</td>\n",
       "      <td>0.011946</td>\n",
       "    </tr>\n",
       "    <tr>\n",
       "      <th>4</th>\n",
       "      <td>Afghanistan</td>\n",
       "      <td>AFG</td>\n",
       "      <td>1953</td>\n",
       "      <td>0.013685</td>\n",
       "    </tr>\n",
       "  </tbody>\n",
       "</table>\n",
       "</div>"
      ],
      "text/plain": [
       "       Country Code  Year       CO2\n",
       "0  Afghanistan  AFG  1949  0.001992\n",
       "1  Afghanistan  AFG  1950  0.011266\n",
       "2  Afghanistan  AFG  1951  0.012098\n",
       "3  Afghanistan  AFG  1952  0.011946\n",
       "4  Afghanistan  AFG  1953  0.013685"
      ]
     },
     "execution_count": 6,
     "metadata": {},
     "output_type": "execute_result"
    }
   ],
   "source": [
    "emissions_countries = emissions[emissions['Code'].notnull() & (emissions['Code']!='WRL')]\n",
    "emissions_countries = emissions_countries.rename(columns={\"Entity\": \"Country\"})\n",
    "emissions_countries.head()"
   ]
  },
  {
   "cell_type": "code",
   "execution_count": 7,
   "metadata": {},
   "outputs": [],
   "source": [
    "countries_continents = [\n",
    "    ('Afghanistan', 'Asia'), ('Albania', 'Europe'), ('Algeria', 'Africa'), ('Andorra', 'Europe'), \n",
    "    ('Angola', 'Africa'), ('Anguilla', 'North America'), ('Antigua and Barbuda', 'North America'), \n",
    "    ('Argentina', 'South America'), ('Armenia', 'Asia'), ('Aruba', 'North America'), \n",
    "    ('Australia', 'Oceania'), ('Austria', 'Europe'), ('Azerbaijan', 'Asia'), ('Bahamas', 'North America'), \n",
    "    ('Bahrain', 'Asia'), ('Bangladesh', 'Asia'), ('Barbados', 'North America'), ('Belarus', 'Europe'), \n",
    "    ('Belgium', 'Europe'), ('Belize', 'North America'), ('Benin', 'Africa'), ('Bermuda', 'North America'), \n",
    "    ('Bhutan', 'Asia'), ('Bolivia', 'South America'), ('Bonaire Sint Eustatius and Saba', 'North America'), \n",
    "    ('Bosnia and Herzegovina', 'Europe'), ('Botswana', 'Africa'), ('Brazil', 'South America'), \n",
    "    ('British Virgin Islands', 'North America'), ('Brunei', 'Asia'), ('Bulgaria', 'Europe'), \n",
    "    ('Burkina Faso', 'Africa'), ('Burundi', 'Africa'), ('Cambodia', 'Asia'), ('Cameroon', 'Africa'), \n",
    "    ('Canada', 'North America'), ('Cape Verde', 'Africa'), ('Central African Republic', 'Africa'), \n",
    "    ('Chad', 'Africa'), ('Chile', 'South America'), ('China', 'Asia'), ('Colombia', 'South America'), \n",
    "    ('Comoros', 'Africa'), ('Congo', 'Africa'), ('Cook Islands', 'Oceania'), ('Costa Rica', 'North America'), \n",
    "    (\"Cote d'Ivoire\", 'Africa'), ('Croatia', 'Europe'), ('Cuba', 'North America'), ('Curacao', 'North America'), \n",
    "    ('Cyprus', 'Europe'), ('Czechia', 'Europe'), ('Democratic Republic of Congo', 'Africa'), ('Denmark', 'Europe'), \n",
    "    ('Djibouti', 'Africa'), ('Dominica', 'North America'), ('Dominican Republic', 'North America'), \n",
    "    ('East Timor', 'Asia'), ('Ecuador', 'South America'), ('Egypt', 'Africa'), ('El Salvador', 'North America'), \n",
    "    ('Equatorial Guinea', 'Africa'), ('Eritrea', 'Africa'), ('Estonia', 'Europe'), ('Eswatini', 'Africa'), \n",
    "    ('Ethiopia', 'Africa'), ('Faroe Islands', 'Europe'), ('Fiji', 'Oceania'), ('Finland', 'Europe'), \n",
    "    ('France', 'Europe'), ('French Polynesia', 'Oceania'), ('Gabon', 'Africa'), ('Gambia', 'Africa'), \n",
    "    ('Georgia', 'Asia'), ('Germany', 'Europe'), ('Ghana', 'Africa'), ('Greece', 'Europe'), ('Greenland', 'North America'), \n",
    "    ('Grenada', 'North America'), ('Guatemala', 'North America'), ('Guinea', 'Africa'), ('Guinea-Bissau', 'Africa'), \n",
    "    ('Guyana', 'South America'), ('Haiti', 'North America'), ('Honduras', 'North America'), ('Hong Kong', 'Asia'), \n",
    "    ('Hungary', 'Europe'), ('Iceland', 'Europe'), ('India', 'Asia'), ('Indonesia', 'Asia'), ('Iran', 'Asia'), \n",
    "    ('Iraq', 'Asia'), ('Ireland', 'Europe'), ('Israel', 'Asia'), ('Italy', 'Europe'), ('Jamaica', 'North America'), \n",
    "    ('Japan', 'Asia'), ('Jordan', 'Asia'), ('Kazakhstan', 'Asia'), ('Kenya', 'Africa'), ('Kiribati', 'Oceania'), \n",
    "    ('Kosovo', 'Europe'), ('Kuwait', 'Asia'), ('Kyrgyzstan', 'Asia'), ('Laos', 'Asia'), ('Latvia', 'Europe'), \n",
    "    ('Lebanon', 'Asia'), ('Lesotho', 'Africa'), ('Liberia', 'Africa'), ('Libya', 'Africa'), ('Liechtenstein', 'Europe'), \n",
    "    ('Lithuania', 'Europe'), ('Luxembourg', 'Europe'), ('Macao', 'Asia'), ('Madagascar', 'Africa'), \n",
    "    ('Malawi', 'Africa'), ('Malaysia', 'Asia'), ('Maldives', 'Asia'), ('Mali', 'Africa'), ('Malta', 'Europe'), \n",
    "    ('Marshall Islands', 'Oceania'), ('Mauritania', 'Africa'), ('Mauritius', 'Africa'), ('Mexico', 'North America'), \n",
    "    ('Micronesia', 'Oceania'), ('Moldova', 'Europe'), ('Mongolia', 'Asia'), ('Montenegro', 'Europe'), \n",
    "    ('Montserrat', 'North America'), ('Morocco', 'Africa'), ('Mozambique', 'Africa'), ('Myanmar', 'Asia'), \n",
    "    ('Namibia', 'Africa'), ('Nauru', 'Oceania'), ('Nepal', 'Asia'), ('Netherlands', 'Europe'), \n",
    "    ('New Caledonia', 'Oceania'), ('New Zealand', 'Oceania'), ('Nicaragua', 'North America'), ('Niger', 'Africa'), \n",
    "    ('Nigeria', 'Africa'), ('Niue', 'Oceania'), ('North Korea', 'Asia'), ('North Macedonia', 'Europe'), \n",
    "    ('Norway', 'Europe'), ('Oman', 'Asia'), ('Pakistan', 'Asia'), ('Palau', 'Oceania'), ('Palestine', 'Asia'), \n",
    "    ('Panama', 'North America'), ('Papua New Guinea', 'Oceania'), ('Paraguay', 'South America'), \n",
    "    ('Peru', 'South America'), ('Philippines', 'Asia'), ('Poland', 'Europe'), ('Portugal', 'Europe'), \n",
    "    ('Qatar', 'Asia'), ('Romania', 'Europe'), ('Russia', 'Europe'), ('Rwanda', 'Africa'), ('Saint Helena', 'Africa'), \n",
    "    ('Saint Kitts and Nevis', 'North America'), ('Saint Lucia', 'North America'), \n",
    "    ('Saint Pierre and Miquelon', 'North America'), ('Saint Vincent and the Grenadines', 'North America'), \n",
    "    ('Samoa', 'Oceania'), ('Sao Tome and Principe', 'Africa'), ('Saudi Arabia', 'Asia'), ('Senegal', 'Africa'), \n",
    "    ('Serbia', 'Europe'), ('Seychelles', 'Africa'), ('Sierra Leone', 'Africa'), ('Singapore', 'Asia'), \n",
    "    ('Sint Maarten (Dutch part)', 'North America'), ('Slovakia', 'Europe'), ('Slovenia', 'Europe'), \n",
    "    ('Solomon Islands', 'Oceania'), ('Somalia', 'Africa'), ('South Africa', 'Africa'), ('South Korea', 'Asia'), \n",
    "    ('South Sudan', 'Africa'), ('Spain', 'Europe'), ('Sri Lanka', 'Asia'), ('Sudan', 'Africa'), \n",
    "    ('Suriname', 'South America'), ('Sweden', 'Europe'), ('Switzerland', 'Europe'), ('Syria', 'Asia'), \n",
    "    ('Taiwan', 'Asia'), ('Tajikistan', 'Asia'), ('Tanzania', 'Africa'), ('Thailand', 'Asia'), ('Togo', 'Africa'), \n",
    "    ('Tonga', 'Oceania'), ('Trinidad and Tobago', 'North America'), ('Tunisia', 'Africa'), ('Turkey', 'Asia'), \n",
    "    ('Turkmenistan', 'Asia'), ('Turks and Caicos Islands', 'North America'), ('Tuvalu', 'Oceania'), \n",
    "    ('Uganda', 'Africa'), ('Ukraine', 'Europe'), ('United Arab Emirates', 'Asia'), ('United Kingdom', 'Europe'), \n",
    "    ('United States', 'North America'), ('Uruguay', 'South America'), ('Uzbekistan', 'Asia'), ('Vanuatu', 'Oceania'),\n",
    "    ('Venezuela', 'South America'), ('Vietnam', 'Asia'), ('Wallis and Futuna', 'Oceania'), \n",
    "    ('Yemen', 'Asia'), ('Zambia', 'Africa'), ('Zimbabwe', 'Africa')\n",
    "]\n"
   ]
  },
  {
   "cell_type": "code",
   "execution_count": 8,
   "metadata": {},
   "outputs": [],
   "source": [
    "for country, continent in countries_continents:\n",
    "    emissions_countries.loc[emissions_countries['Country']==country, 'Continent'] = continent"
   ]
  },
  {
   "cell_type": "code",
   "execution_count": 9,
   "metadata": {},
   "outputs": [
    {
     "data": {
      "text/plain": [
       "array(['Asia', 'Europe', 'Africa', 'North America', 'South America',\n",
       "       'Oceania'], dtype=object)"
      ]
     },
     "execution_count": 9,
     "metadata": {},
     "output_type": "execute_result"
    }
   ],
   "source": [
    "emissions_countries.Continent.unique()\n",
    "# emissions_countries.to_csv('emissions_countries.csv', index=False)"
   ]
  },
  {
   "cell_type": "code",
   "execution_count": 10,
   "metadata": {},
   "outputs": [
    {
     "data": {
      "text/plain": [
       "(214, 4)"
      ]
     },
     "execution_count": 10,
     "metadata": {},
     "output_type": "execute_result"
    }
   ],
   "source": [
    "emissions_2022_countries = emissions_countries[emissions_countries['Year'] == 2022]\n",
    "emissions_2022_countries = emissions_2022_countries.drop(columns=['Year'])\n",
    "emissions_2022_countries = emissions_2022_countries.sort_values(by='CO2', ascending=False).reset_index(drop=True)\n",
    "emissions_2022_countries.shape\n",
    "# emissions_2022_countries.to_csv('emissions_2022_countries.csv', index=False)"
   ]
  },
  {
   "cell_type": "code",
   "execution_count": 11,
   "metadata": {},
   "outputs": [
    {
     "data": {
      "text/plain": [
       "4.581112053560747"
      ]
     },
     "execution_count": 11,
     "metadata": {},
     "output_type": "execute_result"
    }
   ],
   "source": [
    "emissions_2022_countries['CO2'].mean()"
   ]
  },
  {
   "cell_type": "markdown",
   "metadata": {},
   "source": [
    "BONUS: \"Emissions from international aviation and shipping are not included in any country or region's emissions. They are only included in the global total emissions.\""
   ]
  },
  {
   "cell_type": "code",
   "execution_count": 12,
   "metadata": {},
   "outputs": [
    {
     "data": {
      "text/html": [
       "<div>\n",
       "<style scoped>\n",
       "    .dataframe tbody tr th:only-of-type {\n",
       "        vertical-align: middle;\n",
       "    }\n",
       "\n",
       "    .dataframe tbody tr th {\n",
       "        vertical-align: top;\n",
       "    }\n",
       "\n",
       "    .dataframe thead th {\n",
       "        text-align: right;\n",
       "    }\n",
       "</style>\n",
       "<table border=\"1\" class=\"dataframe\">\n",
       "  <thead>\n",
       "    <tr style=\"text-align: right;\">\n",
       "      <th></th>\n",
       "      <th>Country</th>\n",
       "      <th>Code</th>\n",
       "      <th>CO2</th>\n",
       "      <th>Continent</th>\n",
       "    </tr>\n",
       "  </thead>\n",
       "  <tbody>\n",
       "    <tr>\n",
       "      <th>0</th>\n",
       "      <td>Qatar</td>\n",
       "      <td>QAT</td>\n",
       "      <td>37.601273</td>\n",
       "      <td>Asia</td>\n",
       "    </tr>\n",
       "    <tr>\n",
       "      <th>1</th>\n",
       "      <td>United Arab Emirates</td>\n",
       "      <td>ARE</td>\n",
       "      <td>25.833244</td>\n",
       "      <td>Asia</td>\n",
       "    </tr>\n",
       "    <tr>\n",
       "      <th>2</th>\n",
       "      <td>Bahrain</td>\n",
       "      <td>BHR</td>\n",
       "      <td>25.672274</td>\n",
       "      <td>Asia</td>\n",
       "    </tr>\n",
       "    <tr>\n",
       "      <th>3</th>\n",
       "      <td>Kuwait</td>\n",
       "      <td>KWT</td>\n",
       "      <td>25.578102</td>\n",
       "      <td>Asia</td>\n",
       "    </tr>\n",
       "    <tr>\n",
       "      <th>4</th>\n",
       "      <td>Brunei</td>\n",
       "      <td>BRN</td>\n",
       "      <td>23.950201</td>\n",
       "      <td>Asia</td>\n",
       "    </tr>\n",
       "  </tbody>\n",
       "</table>\n",
       "</div>"
      ],
      "text/plain": [
       "                Country Code        CO2 Continent\n",
       "0                 Qatar  QAT  37.601273      Asia\n",
       "1  United Arab Emirates  ARE  25.833244      Asia\n",
       "2               Bahrain  BHR  25.672274      Asia\n",
       "3                Kuwait  KWT  25.578102      Asia\n",
       "4                Brunei  BRN  23.950201      Asia"
      ]
     },
     "execution_count": 12,
     "metadata": {},
     "output_type": "execute_result"
    }
   ],
   "source": [
    "emissions_2022_countries.head()"
   ]
  },
  {
   "cell_type": "markdown",
   "metadata": {},
   "source": [
    "# Join population"
   ]
  },
  {
   "cell_type": "code",
   "execution_count": 13,
   "metadata": {},
   "outputs": [
    {
     "name": "stdout",
     "output_type": "stream",
     "text": [
      "<class 'pandas.core.frame.DataFrame'>\n",
      "RangeIndex: 234 entries, 0 to 233\n",
      "Data columns (total 16 columns):\n",
      " #   Column           Non-Null Count  Dtype  \n",
      "---  ------           --------------  -----  \n",
      " 0   Unnamed: 0       234 non-null    int64  \n",
      " 1   Rank             234 non-null    int64  \n",
      " 2   country          234 non-null    object \n",
      " 3   country_code     234 non-null    object \n",
      " 4   1980             234 non-null    float64\n",
      " 5   2000             234 non-null    int64  \n",
      " 6   2010             234 non-null    int64  \n",
      " 7   2021             234 non-null    int64  \n",
      " 8   2022             234 non-null    int64  \n",
      " 9   2030             234 non-null    int64  \n",
      " 10  2050             234 non-null    int64  \n",
      " 11  area             234 non-null    float64\n",
      " 12  landAreaKm       234 non-null    float64\n",
      " 13  growthRate       234 non-null    float64\n",
      " 14  worldPercentage  234 non-null    float64\n",
      " 15  density          234 non-null    float64\n",
      "dtypes: float64(6), int64(8), object(2)\n",
      "memory usage: 29.4+ KB\n"
     ]
    }
   ],
   "source": [
    "population_all = pd.read_csv('world_population_data.csv')\n",
    "population_all.info()"
   ]
  },
  {
   "cell_type": "code",
   "execution_count": 14,
   "metadata": {},
   "outputs": [
    {
     "data": {
      "text/html": [
       "<div>\n",
       "<style scoped>\n",
       "    .dataframe tbody tr th:only-of-type {\n",
       "        vertical-align: middle;\n",
       "    }\n",
       "\n",
       "    .dataframe tbody tr th {\n",
       "        vertical-align: top;\n",
       "    }\n",
       "\n",
       "    .dataframe thead th {\n",
       "        text-align: right;\n",
       "    }\n",
       "</style>\n",
       "<table border=\"1\" class=\"dataframe\">\n",
       "  <thead>\n",
       "    <tr style=\"text-align: right;\">\n",
       "      <th></th>\n",
       "      <th>Code</th>\n",
       "      <th>Population</th>\n",
       "    </tr>\n",
       "  </thead>\n",
       "  <tbody>\n",
       "    <tr>\n",
       "      <th>0</th>\n",
       "      <td>CHN</td>\n",
       "      <td>1425887337</td>\n",
       "    </tr>\n",
       "    <tr>\n",
       "      <th>1</th>\n",
       "      <td>IND</td>\n",
       "      <td>1417173173</td>\n",
       "    </tr>\n",
       "    <tr>\n",
       "      <th>2</th>\n",
       "      <td>USA</td>\n",
       "      <td>338289857</td>\n",
       "    </tr>\n",
       "    <tr>\n",
       "      <th>3</th>\n",
       "      <td>IDN</td>\n",
       "      <td>275501339</td>\n",
       "    </tr>\n",
       "    <tr>\n",
       "      <th>4</th>\n",
       "      <td>PAK</td>\n",
       "      <td>235824862</td>\n",
       "    </tr>\n",
       "  </tbody>\n",
       "</table>\n",
       "</div>"
      ],
      "text/plain": [
       "  Code  Population\n",
       "0  CHN  1425887337\n",
       "1  IND  1417173173\n",
       "2  USA   338289857\n",
       "3  IDN   275501339\n",
       "4  PAK   235824862"
      ]
     },
     "execution_count": 14,
     "metadata": {},
     "output_type": "execute_result"
    }
   ],
   "source": [
    "population_2022 = population_all[['country_code', '2022']].rename(columns={'country_code': 'Code', '2022': 'Population'})\n",
    "population_2022.head()"
   ]
  },
  {
   "cell_type": "code",
   "execution_count": 15,
   "metadata": {},
   "outputs": [],
   "source": [
    "emissions_2022_countries = emissions_2022_countries.merge(population_2022, on='Code', how='left')"
   ]
  },
  {
   "cell_type": "code",
   "execution_count": 16,
   "metadata": {},
   "outputs": [
    {
     "data": {
      "text/plain": [
       "['Kosovo', 'Bonaire Sint Eustatius and Saba', 'Saint Helena']"
      ]
     },
     "execution_count": 16,
     "metadata": {},
     "output_type": "execute_result"
    }
   ],
   "source": [
    "null_idx = emissions_2022_countries.Population.isnull()\n",
    "missing_countries = emissions_2022_countries['Country'][null_idx].tolist()\n",
    "missing_countries"
   ]
  },
  {
   "cell_type": "code",
   "execution_count": 17,
   "metadata": {},
   "outputs": [
    {
     "name": "stdout",
     "output_type": "stream",
     "text": [
      "<class 'pandas.core.frame.DataFrame'>\n",
      "RangeIndex: 214 entries, 0 to 213\n",
      "Data columns (total 5 columns):\n",
      " #   Column      Non-Null Count  Dtype  \n",
      "---  ------      --------------  -----  \n",
      " 0   Country     214 non-null    object \n",
      " 1   Code        214 non-null    object \n",
      " 2   CO2         214 non-null    float64\n",
      " 3   Continent   214 non-null    object \n",
      " 4   Population  211 non-null    float64\n",
      "dtypes: float64(2), object(3)\n",
      "memory usage: 8.5+ KB\n"
     ]
    }
   ],
   "source": [
    "emissions_2022_countries.info()"
   ]
  },
  {
   "cell_type": "code",
   "execution_count": 18,
   "metadata": {},
   "outputs": [
    {
     "name": "stdout",
     "output_type": "stream",
     "text": [
      "<class 'pandas.core.frame.DataFrame'>\n",
      "Index: 211 entries, 0 to 213\n",
      "Data columns (total 5 columns):\n",
      " #   Column      Non-Null Count  Dtype  \n",
      "---  ------      --------------  -----  \n",
      " 0   Country     211 non-null    object \n",
      " 1   Code        211 non-null    object \n",
      " 2   CO2         211 non-null    float64\n",
      " 3   Continent   211 non-null    object \n",
      " 4   Population  211 non-null    float64\n",
      "dtypes: float64(2), object(3)\n",
      "memory usage: 9.9+ KB\n"
     ]
    }
   ],
   "source": [
    "emissions_2022_countries = emissions_2022_countries.dropna(subset=['Population'])\n",
    "emissions_2022_countries.info()"
   ]
  },
  {
   "cell_type": "code",
   "execution_count": 19,
   "metadata": {},
   "outputs": [
    {
     "name": "stdout",
     "output_type": "stream",
     "text": [
      "<class 'pandas.core.frame.DataFrame'>\n",
      "Index: 211 entries, 0 to 213\n",
      "Data columns (total 6 columns):\n",
      " #   Column      Non-Null Count  Dtype  \n",
      "---  ------      --------------  -----  \n",
      " 0   Country     211 non-null    object \n",
      " 1   Code        211 non-null    object \n",
      " 2   CO2         211 non-null    float64\n",
      " 3   Continent   211 non-null    object \n",
      " 4   Population  211 non-null    float64\n",
      " 5   Total       211 non-null    float64\n",
      "dtypes: float64(3), object(3)\n",
      "memory usage: 11.5+ KB\n"
     ]
    }
   ],
   "source": [
    "emissions_2022_countries['Total'] = emissions_2022_countries['CO2'] * emissions_2022_countries['Population']\n",
    "emissions_2022_countries.info()"
   ]
  },
  {
   "cell_type": "code",
   "execution_count": 20,
   "metadata": {},
   "outputs": [],
   "source": [
    "# emissions_2022_countries.to_csv('emissions_2022_total.csv', index=False)"
   ]
  },
  {
   "cell_type": "code",
   "execution_count": 36,
   "metadata": {},
   "outputs": [
    {
     "data": {
      "text/html": [
       "<div>\n",
       "<style scoped>\n",
       "    .dataframe tbody tr th:only-of-type {\n",
       "        vertical-align: middle;\n",
       "    }\n",
       "\n",
       "    .dataframe tbody tr th {\n",
       "        vertical-align: top;\n",
       "    }\n",
       "\n",
       "    .dataframe thead th {\n",
       "        text-align: right;\n",
       "    }\n",
       "</style>\n",
       "<table border=\"1\" class=\"dataframe\">\n",
       "  <thead>\n",
       "    <tr style=\"text-align: right;\">\n",
       "      <th></th>\n",
       "      <th>Country</th>\n",
       "      <th>Continent</th>\n",
       "      <th>Total</th>\n",
       "    </tr>\n",
       "  </thead>\n",
       "  <tbody>\n",
       "    <tr>\n",
       "      <th>0</th>\n",
       "      <td>China</td>\n",
       "      <td>Asia</td>\n",
       "      <td>1.139678e+10</td>\n",
       "    </tr>\n",
       "    <tr>\n",
       "      <th>1</th>\n",
       "      <td>India</td>\n",
       "      <td>Asia</td>\n",
       "      <td>2.829644e+09</td>\n",
       "    </tr>\n",
       "    <tr>\n",
       "      <th>2</th>\n",
       "      <td>United States</td>\n",
       "      <td>North America</td>\n",
       "      <td>5.057303e+09</td>\n",
       "    </tr>\n",
       "    <tr>\n",
       "      <th>3</th>\n",
       "      <td>Canada</td>\n",
       "      <td>North America</td>\n",
       "      <td>5.479439e+08</td>\n",
       "    </tr>\n",
       "    <tr>\n",
       "      <th>4</th>\n",
       "      <td>Australia</td>\n",
       "      <td>Oceania</td>\n",
       "      <td>3.922793e+08</td>\n",
       "    </tr>\n",
       "  </tbody>\n",
       "</table>\n",
       "</div>"
      ],
      "text/plain": [
       "         Country      Continent         Total\n",
       "0          China           Asia  1.139678e+10\n",
       "1          India           Asia  2.829644e+09\n",
       "2  United States  North America  5.057303e+09\n",
       "3         Canada  North America  5.479439e+08\n",
       "4      Australia        Oceania  3.922793e+08"
      ]
     },
     "execution_count": 36,
     "metadata": {},
     "output_type": "execute_result"
    }
   ],
   "source": [
    "continents = emissions_2022_countries.Continent.unique()\n",
    "top3 = pd.DataFrame(columns=emissions_2022_countries.columns)\n",
    "for cont in continents:\n",
    "    temp = emissions_2022_countries[emissions_2022_countries['Continent']==cont]\n",
    "    temp = temp.sort_values(by='Total', ascending=False).reset_index(drop=True)\n",
    "    temp = temp.head(2)\n",
    "    top3 = pd.concat([top3, temp]).reset_index(drop=True)\n",
    "\n",
    "top3 = top3.drop(columns=['Code', 'CO2', 'Population'])\n",
    "top3.head()"
   ]
  },
  {
   "cell_type": "code",
   "execution_count": 37,
   "metadata": {},
   "outputs": [
    {
     "data": {
      "text/html": [
       "<div>\n",
       "<style scoped>\n",
       "    .dataframe tbody tr th:only-of-type {\n",
       "        vertical-align: middle;\n",
       "    }\n",
       "\n",
       "    .dataframe tbody tr th {\n",
       "        vertical-align: top;\n",
       "    }\n",
       "\n",
       "    .dataframe thead th {\n",
       "        text-align: right;\n",
       "    }\n",
       "</style>\n",
       "<table border=\"1\" class=\"dataframe\">\n",
       "  <thead>\n",
       "    <tr style=\"text-align: right;\">\n",
       "      <th></th>\n",
       "      <th>Country</th>\n",
       "      <th>Continent</th>\n",
       "      <th>Total</th>\n",
       "    </tr>\n",
       "  </thead>\n",
       "  <tbody>\n",
       "    <tr>\n",
       "      <th>0</th>\n",
       "      <td>Qatar</td>\n",
       "      <td>Asia</td>\n",
       "      <td>1.013400e+08</td>\n",
       "    </tr>\n",
       "    <tr>\n",
       "      <th>1</th>\n",
       "      <td>United Arab Emirates</td>\n",
       "      <td>Asia</td>\n",
       "      <td>2.438950e+08</td>\n",
       "    </tr>\n",
       "    <tr>\n",
       "      <th>2</th>\n",
       "      <td>Bahrain</td>\n",
       "      <td>Asia</td>\n",
       "      <td>3.779557e+07</td>\n",
       "    </tr>\n",
       "    <tr>\n",
       "      <th>3</th>\n",
       "      <td>Kuwait</td>\n",
       "      <td>Asia</td>\n",
       "      <td>1.091897e+08</td>\n",
       "    </tr>\n",
       "    <tr>\n",
       "      <th>4</th>\n",
       "      <td>Brunei</td>\n",
       "      <td>Asia</td>\n",
       "      <td>1.075369e+07</td>\n",
       "    </tr>\n",
       "  </tbody>\n",
       "</table>\n",
       "</div>"
      ],
      "text/plain": [
       "                Country Continent         Total\n",
       "0                 Qatar      Asia  1.013400e+08\n",
       "1  United Arab Emirates      Asia  2.438950e+08\n",
       "2               Bahrain      Asia  3.779557e+07\n",
       "3                Kuwait      Asia  1.091897e+08\n",
       "4                Brunei      Asia  1.075369e+07"
      ]
     },
     "execution_count": 37,
     "metadata": {},
     "output_type": "execute_result"
    }
   ],
   "source": [
    "others = emissions_2022_countries[~emissions_2022_countries['Country'].isin(top3['Country'])]\n",
    "others = others.drop(columns=['Code', 'CO2', 'Population'])\n",
    "others.head()"
   ]
  },
  {
   "cell_type": "code",
   "execution_count": 38,
   "metadata": {},
   "outputs": [
    {
     "name": "stdout",
     "output_type": "stream",
     "text": [
      "       Continent         Total\n",
      "0         Africa  7.536028e+08\n",
      "1           Asia  7.545926e+09\n",
      "2         Europe  2.779507e+09\n",
      "3  North America  6.743294e+08\n",
      "4        Oceania  1.658555e+07\n",
      "5  South America  4.090506e+08\n"
     ]
    }
   ],
   "source": [
    "others_totals = others.groupby('Continent')['Total'].sum().reset_index()\n",
    "print(others_totals)\n",
    "\n",
    "plot4 = top3\n",
    "\n",
    "for (cont, total) in others_totals.values:\n",
    "    plot4 = pd.concat([plot4, pd.DataFrame({'Country': [\"Others (\"+cont+\")\"], 'Continent': [cont], 'Total': [total]})])"
   ]
  },
  {
   "cell_type": "code",
   "execution_count": 39,
   "metadata": {},
   "outputs": [
    {
     "data": {
      "text/html": [
       "<div>\n",
       "<style scoped>\n",
       "    .dataframe tbody tr th:only-of-type {\n",
       "        vertical-align: middle;\n",
       "    }\n",
       "\n",
       "    .dataframe tbody tr th {\n",
       "        vertical-align: top;\n",
       "    }\n",
       "\n",
       "    .dataframe thead th {\n",
       "        text-align: right;\n",
       "    }\n",
       "</style>\n",
       "<table border=\"1\" class=\"dataframe\">\n",
       "  <thead>\n",
       "    <tr style=\"text-align: right;\">\n",
       "      <th></th>\n",
       "      <th>Country</th>\n",
       "      <th>Continent</th>\n",
       "      <th>Total</th>\n",
       "    </tr>\n",
       "  </thead>\n",
       "  <tbody>\n",
       "    <tr>\n",
       "      <th>0</th>\n",
       "      <td>China</td>\n",
       "      <td>Asia</td>\n",
       "      <td>1.139678e+10</td>\n",
       "    </tr>\n",
       "    <tr>\n",
       "      <th>1</th>\n",
       "      <td>India</td>\n",
       "      <td>Asia</td>\n",
       "      <td>2.829644e+09</td>\n",
       "    </tr>\n",
       "    <tr>\n",
       "      <th>2</th>\n",
       "      <td>United States</td>\n",
       "      <td>North America</td>\n",
       "      <td>5.057303e+09</td>\n",
       "    </tr>\n",
       "    <tr>\n",
       "      <th>3</th>\n",
       "      <td>Canada</td>\n",
       "      <td>North America</td>\n",
       "      <td>5.479439e+08</td>\n",
       "    </tr>\n",
       "    <tr>\n",
       "      <th>4</th>\n",
       "      <td>Australia</td>\n",
       "      <td>Oceania</td>\n",
       "      <td>3.922793e+08</td>\n",
       "    </tr>\n",
       "    <tr>\n",
       "      <th>5</th>\n",
       "      <td>New Zealand</td>\n",
       "      <td>Oceania</td>\n",
       "      <td>3.221181e+07</td>\n",
       "    </tr>\n",
       "    <tr>\n",
       "      <th>6</th>\n",
       "      <td>Russia</td>\n",
       "      <td>Europe</td>\n",
       "      <td>1.652177e+09</td>\n",
       "    </tr>\n",
       "    <tr>\n",
       "      <th>7</th>\n",
       "      <td>Germany</td>\n",
       "      <td>Europe</td>\n",
       "      <td>6.656047e+08</td>\n",
       "    </tr>\n",
       "    <tr>\n",
       "      <th>8</th>\n",
       "      <td>South Africa</td>\n",
       "      <td>Africa</td>\n",
       "      <td>4.040540e+08</td>\n",
       "    </tr>\n",
       "    <tr>\n",
       "      <th>9</th>\n",
       "      <td>Egypt</td>\n",
       "      <td>Africa</td>\n",
       "      <td>2.589517e+08</td>\n",
       "    </tr>\n",
       "    <tr>\n",
       "      <th>10</th>\n",
       "      <td>Brazil</td>\n",
       "      <td>South America</td>\n",
       "      <td>4.834773e+08</td>\n",
       "    </tr>\n",
       "    <tr>\n",
       "      <th>11</th>\n",
       "      <td>Argentina</td>\n",
       "      <td>South America</td>\n",
       "      <td>1.928644e+08</td>\n",
       "    </tr>\n",
       "    <tr>\n",
       "      <th>12</th>\n",
       "      <td>Others (Africa)</td>\n",
       "      <td>Africa</td>\n",
       "      <td>7.536028e+08</td>\n",
       "    </tr>\n",
       "    <tr>\n",
       "      <th>13</th>\n",
       "      <td>Others (Asia)</td>\n",
       "      <td>Asia</td>\n",
       "      <td>7.545926e+09</td>\n",
       "    </tr>\n",
       "    <tr>\n",
       "      <th>14</th>\n",
       "      <td>Others (Europe)</td>\n",
       "      <td>Europe</td>\n",
       "      <td>2.779507e+09</td>\n",
       "    </tr>\n",
       "    <tr>\n",
       "      <th>15</th>\n",
       "      <td>Others (North America)</td>\n",
       "      <td>North America</td>\n",
       "      <td>6.743294e+08</td>\n",
       "    </tr>\n",
       "    <tr>\n",
       "      <th>16</th>\n",
       "      <td>Others (Oceania)</td>\n",
       "      <td>Oceania</td>\n",
       "      <td>1.658555e+07</td>\n",
       "    </tr>\n",
       "    <tr>\n",
       "      <th>17</th>\n",
       "      <td>Others (South America)</td>\n",
       "      <td>South America</td>\n",
       "      <td>4.090506e+08</td>\n",
       "    </tr>\n",
       "  </tbody>\n",
       "</table>\n",
       "</div>"
      ],
      "text/plain": [
       "                   Country      Continent         Total\n",
       "0                    China           Asia  1.139678e+10\n",
       "1                    India           Asia  2.829644e+09\n",
       "2            United States  North America  5.057303e+09\n",
       "3                   Canada  North America  5.479439e+08\n",
       "4                Australia        Oceania  3.922793e+08\n",
       "5              New Zealand        Oceania  3.221181e+07\n",
       "6                   Russia         Europe  1.652177e+09\n",
       "7                  Germany         Europe  6.656047e+08\n",
       "8             South Africa         Africa  4.040540e+08\n",
       "9                    Egypt         Africa  2.589517e+08\n",
       "10                  Brazil  South America  4.834773e+08\n",
       "11               Argentina  South America  1.928644e+08\n",
       "12         Others (Africa)         Africa  7.536028e+08\n",
       "13           Others (Asia)           Asia  7.545926e+09\n",
       "14         Others (Europe)         Europe  2.779507e+09\n",
       "15  Others (North America)  North America  6.743294e+08\n",
       "16        Others (Oceania)        Oceania  1.658555e+07\n",
       "17  Others (South America)  South America  4.090506e+08"
      ]
     },
     "execution_count": 39,
     "metadata": {},
     "output_type": "execute_result"
    }
   ],
   "source": [
    "plot4 = plot4.reset_index(drop=True)\n",
    "plot4"
   ]
  },
  {
   "cell_type": "code",
   "execution_count": 40,
   "metadata": {},
   "outputs": [
    {
     "name": "stdout",
     "output_type": "stream",
     "text": [
      "       Continent         Total\n",
      "0         Africa  1.416608e+09\n",
      "1           Asia  2.177235e+10\n",
      "2         Europe  5.097289e+09\n",
      "3  North America  6.279577e+09\n",
      "4        Oceania  4.410767e+08\n",
      "5  South America  1.085392e+09\n"
     ]
    },
    {
     "data": {
      "text/html": [
       "<div>\n",
       "<style scoped>\n",
       "    .dataframe tbody tr th:only-of-type {\n",
       "        vertical-align: middle;\n",
       "    }\n",
       "\n",
       "    .dataframe tbody tr th {\n",
       "        vertical-align: top;\n",
       "    }\n",
       "\n",
       "    .dataframe thead th {\n",
       "        text-align: right;\n",
       "    }\n",
       "</style>\n",
       "<table border=\"1\" class=\"dataframe\">\n",
       "  <thead>\n",
       "    <tr style=\"text-align: right;\">\n",
       "      <th></th>\n",
       "      <th>Country</th>\n",
       "      <th>Continent</th>\n",
       "      <th>Total</th>\n",
       "    </tr>\n",
       "  </thead>\n",
       "  <tbody>\n",
       "    <tr>\n",
       "      <th>0</th>\n",
       "      <td>China</td>\n",
       "      <td>Asia</td>\n",
       "      <td>1.139678e+10</td>\n",
       "    </tr>\n",
       "    <tr>\n",
       "      <th>1</th>\n",
       "      <td>India</td>\n",
       "      <td>Asia</td>\n",
       "      <td>2.829644e+09</td>\n",
       "    </tr>\n",
       "    <tr>\n",
       "      <th>2</th>\n",
       "      <td>United States</td>\n",
       "      <td>North America</td>\n",
       "      <td>5.057303e+09</td>\n",
       "    </tr>\n",
       "    <tr>\n",
       "      <th>3</th>\n",
       "      <td>Canada</td>\n",
       "      <td>North America</td>\n",
       "      <td>5.479439e+08</td>\n",
       "    </tr>\n",
       "    <tr>\n",
       "      <th>4</th>\n",
       "      <td>Australia</td>\n",
       "      <td>Oceania</td>\n",
       "      <td>3.922793e+08</td>\n",
       "    </tr>\n",
       "    <tr>\n",
       "      <th>5</th>\n",
       "      <td>New Zealand</td>\n",
       "      <td>Oceania</td>\n",
       "      <td>3.221181e+07</td>\n",
       "    </tr>\n",
       "    <tr>\n",
       "      <th>6</th>\n",
       "      <td>Russia</td>\n",
       "      <td>Europe</td>\n",
       "      <td>1.652177e+09</td>\n",
       "    </tr>\n",
       "    <tr>\n",
       "      <th>7</th>\n",
       "      <td>Germany</td>\n",
       "      <td>Europe</td>\n",
       "      <td>6.656047e+08</td>\n",
       "    </tr>\n",
       "    <tr>\n",
       "      <th>8</th>\n",
       "      <td>South Africa</td>\n",
       "      <td>Africa</td>\n",
       "      <td>4.040540e+08</td>\n",
       "    </tr>\n",
       "    <tr>\n",
       "      <th>9</th>\n",
       "      <td>Egypt</td>\n",
       "      <td>Africa</td>\n",
       "      <td>2.589517e+08</td>\n",
       "    </tr>\n",
       "    <tr>\n",
       "      <th>10</th>\n",
       "      <td>Brazil</td>\n",
       "      <td>South America</td>\n",
       "      <td>4.834773e+08</td>\n",
       "    </tr>\n",
       "    <tr>\n",
       "      <th>11</th>\n",
       "      <td>Argentina</td>\n",
       "      <td>South America</td>\n",
       "      <td>1.928644e+08</td>\n",
       "    </tr>\n",
       "    <tr>\n",
       "      <th>12</th>\n",
       "      <td>Others (Africa)</td>\n",
       "      <td>Africa</td>\n",
       "      <td>7.536028e+08</td>\n",
       "    </tr>\n",
       "    <tr>\n",
       "      <th>13</th>\n",
       "      <td>Others (Asia)</td>\n",
       "      <td>Asia</td>\n",
       "      <td>7.545926e+09</td>\n",
       "    </tr>\n",
       "    <tr>\n",
       "      <th>14</th>\n",
       "      <td>Others (Europe)</td>\n",
       "      <td>Europe</td>\n",
       "      <td>2.779507e+09</td>\n",
       "    </tr>\n",
       "    <tr>\n",
       "      <th>15</th>\n",
       "      <td>Others (North America)</td>\n",
       "      <td>North America</td>\n",
       "      <td>6.743294e+08</td>\n",
       "    </tr>\n",
       "    <tr>\n",
       "      <th>16</th>\n",
       "      <td>Others (Oceania)</td>\n",
       "      <td>Oceania</td>\n",
       "      <td>1.658555e+07</td>\n",
       "    </tr>\n",
       "    <tr>\n",
       "      <th>17</th>\n",
       "      <td>Others (South America)</td>\n",
       "      <td>South America</td>\n",
       "      <td>4.090506e+08</td>\n",
       "    </tr>\n",
       "    <tr>\n",
       "      <th>18</th>\n",
       "      <td>Total (Africa)</td>\n",
       "      <td>Africa</td>\n",
       "      <td>1.416608e+09</td>\n",
       "    </tr>\n",
       "    <tr>\n",
       "      <th>19</th>\n",
       "      <td>Total (Asia)</td>\n",
       "      <td>Asia</td>\n",
       "      <td>2.177235e+10</td>\n",
       "    </tr>\n",
       "    <tr>\n",
       "      <th>20</th>\n",
       "      <td>Total (Europe)</td>\n",
       "      <td>Europe</td>\n",
       "      <td>5.097289e+09</td>\n",
       "    </tr>\n",
       "    <tr>\n",
       "      <th>21</th>\n",
       "      <td>Total (North America)</td>\n",
       "      <td>North America</td>\n",
       "      <td>6.279577e+09</td>\n",
       "    </tr>\n",
       "    <tr>\n",
       "      <th>22</th>\n",
       "      <td>Total (Oceania)</td>\n",
       "      <td>Oceania</td>\n",
       "      <td>4.410767e+08</td>\n",
       "    </tr>\n",
       "    <tr>\n",
       "      <th>23</th>\n",
       "      <td>Total (South America)</td>\n",
       "      <td>South America</td>\n",
       "      <td>1.085392e+09</td>\n",
       "    </tr>\n",
       "  </tbody>\n",
       "</table>\n",
       "</div>"
      ],
      "text/plain": [
       "                   Country      Continent         Total\n",
       "0                    China           Asia  1.139678e+10\n",
       "1                    India           Asia  2.829644e+09\n",
       "2            United States  North America  5.057303e+09\n",
       "3                   Canada  North America  5.479439e+08\n",
       "4                Australia        Oceania  3.922793e+08\n",
       "5              New Zealand        Oceania  3.221181e+07\n",
       "6                   Russia         Europe  1.652177e+09\n",
       "7                  Germany         Europe  6.656047e+08\n",
       "8             South Africa         Africa  4.040540e+08\n",
       "9                    Egypt         Africa  2.589517e+08\n",
       "10                  Brazil  South America  4.834773e+08\n",
       "11               Argentina  South America  1.928644e+08\n",
       "12         Others (Africa)         Africa  7.536028e+08\n",
       "13           Others (Asia)           Asia  7.545926e+09\n",
       "14         Others (Europe)         Europe  2.779507e+09\n",
       "15  Others (North America)  North America  6.743294e+08\n",
       "16        Others (Oceania)        Oceania  1.658555e+07\n",
       "17  Others (South America)  South America  4.090506e+08\n",
       "18          Total (Africa)         Africa  1.416608e+09\n",
       "19            Total (Asia)           Asia  2.177235e+10\n",
       "20          Total (Europe)         Europe  5.097289e+09\n",
       "21   Total (North America)  North America  6.279577e+09\n",
       "22         Total (Oceania)        Oceania  4.410767e+08\n",
       "23   Total (South America)  South America  1.085392e+09"
      ]
     },
     "execution_count": 40,
     "metadata": {},
     "output_type": "execute_result"
    }
   ],
   "source": [
    "totals = emissions_2022_countries.groupby('Continent')['Total'].sum().reset_index()\n",
    "print(totals)\n",
    "\n",
    "for (cont, total) in totals.values:\n",
    "    plot4 = pd.concat([plot4, pd.DataFrame({'Country': [\"Total (\"+cont+\")\"], 'Continent': [cont], 'Total': [total]})])\n",
    "    \n",
    "plot4 = plot4.reset_index(drop=True)\n",
    "plot4"
   ]
  },
  {
   "cell_type": "code",
   "execution_count": 41,
   "metadata": {},
   "outputs": [],
   "source": [
    "plot4.to_csv('plot4_dataset.csv', index=False)"
   ]
  },
  {
   "cell_type": "markdown",
   "metadata": {},
   "source": [
    "\n"
   ]
  },
  {
   "cell_type": "markdown",
   "metadata": {},
   "source": []
  },
  {
   "cell_type": "markdown",
   "metadata": {},
   "source": []
  },
  {
   "cell_type": "markdown",
   "metadata": {},
   "source": []
  },
  {
   "cell_type": "code",
   "execution_count": 42,
   "metadata": {},
   "outputs": [],
   "source": [
    "heatmap = pd.read_csv('co2-fossil-plus-land-use/co2-fossil-plus-land-use.csv')"
   ]
  },
  {
   "cell_type": "code",
   "execution_count": 43,
   "metadata": {},
   "outputs": [
    {
     "name": "stdout",
     "output_type": "stream",
     "text": [
      "<class 'pandas.core.frame.DataFrame'>\n",
      "RangeIndex: 44010 entries, 0 to 44009\n",
      "Data columns (total 6 columns):\n",
      " #   Column   Non-Null Count  Dtype  \n",
      "---  ------   --------------  -----  \n",
      " 0   Country  44010 non-null  object \n",
      " 1   Code     37825 non-null  object \n",
      " 2   Year     44010 non-null  int64  \n",
      " 3   Total    23320 non-null  float64\n",
      " 4   Land     37022 non-null  float64\n",
      " 5   Fossil   30308 non-null  float64\n",
      "dtypes: float64(3), int64(1), object(2)\n",
      "memory usage: 2.0+ MB\n"
     ]
    }
   ],
   "source": [
    "heatmap.info()"
   ]
  },
  {
   "cell_type": "code",
   "execution_count": 44,
   "metadata": {},
   "outputs": [
    {
     "data": {
      "text/plain": [
       "array(['Africa', 'Africa (GCP)', 'Asia', 'Asia (GCP)',\n",
       "       'Asia (excl. China and India)', 'Central America (GCP)', 'Europe',\n",
       "       'Europe (GCP)', 'Europe (excl. EU-27)', 'Europe (excl. EU-28)',\n",
       "       'European Union (27)', 'European Union (28)',\n",
       "       'High-income countries', 'International aviation',\n",
       "       'International shipping', 'Kuwaiti Oil Fires (GCP)',\n",
       "       'Leeward Islands (GCP)', 'Low-income countries',\n",
       "       'Lower-middle-income countries', 'Middle East (GCP)',\n",
       "       'Non-OECD (GCP)', 'North America', 'North America (GCP)',\n",
       "       'North America (excl. USA)', 'OECD (GCP)', 'Oceania',\n",
       "       'Oceania (GCP)', 'Panama Canal Zone (GCP)', 'Ryukyu Islands (GCP)',\n",
       "       'South America', 'South America (GCP)',\n",
       "       'St. Kitts-Nevis-Anguilla (GCP)', 'Upper-middle-income countries'],\n",
       "      dtype=object)"
      ]
     },
     "execution_count": 44,
     "metadata": {},
     "output_type": "execute_result"
    }
   ],
   "source": [
    "null_idx = heatmap.Code.isnull()\n",
    "heatmap[null_idx]['Country'].unique()"
   ]
  },
  {
   "cell_type": "code",
   "execution_count": 45,
   "metadata": {},
   "outputs": [
    {
     "name": "stdout",
     "output_type": "stream",
     "text": [
      "<class 'pandas.core.frame.DataFrame'>\n",
      "Index: 37552 entries, 0 to 44009\n",
      "Data columns (total 6 columns):\n",
      " #   Column   Non-Null Count  Dtype  \n",
      "---  ------   --------------  -----  \n",
      " 0   Country  37552 non-null  object \n",
      " 1   Code     37552 non-null  object \n",
      " 2   Year     37552 non-null  int64  \n",
      " 3   Total    20413 non-null  float64\n",
      " 4   Land     34081 non-null  float64\n",
      " 5   Fossil   23884 non-null  float64\n",
      "dtypes: float64(3), int64(1), object(2)\n",
      "memory usage: 2.0+ MB\n"
     ]
    }
   ],
   "source": [
    "heatmap = heatmap[heatmap['Code'].notnull() & (heatmap['Code']!='OWID_WRL')]\n",
    "heatmap.info()"
   ]
  },
  {
   "cell_type": "code",
   "execution_count": 46,
   "metadata": {},
   "outputs": [
    {
     "name": "stdout",
     "output_type": "stream",
     "text": [
      "<class 'pandas.core.frame.DataFrame'>\n",
      "Index: 20413 entries, 0 to 43956\n",
      "Data columns (total 6 columns):\n",
      " #   Column   Non-Null Count  Dtype  \n",
      "---  ------   --------------  -----  \n",
      " 0   Country  20413 non-null  object \n",
      " 1   Code     20413 non-null  object \n",
      " 2   Year     20413 non-null  int64  \n",
      " 3   Total    20413 non-null  float64\n",
      " 4   Land     20413 non-null  float64\n",
      " 5   Fossil   20413 non-null  float64\n",
      "dtypes: float64(3), int64(1), object(2)\n",
      "memory usage: 1.1+ MB\n"
     ]
    }
   ],
   "source": [
    "heatmap = heatmap.dropna(subset=['Total'])\n",
    "heatmap.info()"
   ]
  },
  {
   "cell_type": "code",
   "execution_count": 47,
   "metadata": {},
   "outputs": [
    {
     "data": {
      "text/html": [
       "<div>\n",
       "<style scoped>\n",
       "    .dataframe tbody tr th:only-of-type {\n",
       "        vertical-align: middle;\n",
       "    }\n",
       "\n",
       "    .dataframe tbody tr th {\n",
       "        vertical-align: top;\n",
       "    }\n",
       "\n",
       "    .dataframe thead th {\n",
       "        text-align: right;\n",
       "    }\n",
       "</style>\n",
       "<table border=\"1\" class=\"dataframe\">\n",
       "  <thead>\n",
       "    <tr style=\"text-align: right;\">\n",
       "      <th></th>\n",
       "      <th>Country</th>\n",
       "      <th>Code</th>\n",
       "      <th>Year</th>\n",
       "      <th>Total</th>\n",
       "      <th>Land</th>\n",
       "      <th>Fossil</th>\n",
       "    </tr>\n",
       "  </thead>\n",
       "  <tbody>\n",
       "  </tbody>\n",
       "</table>\n",
       "</div>"
      ],
      "text/plain": [
       "Empty DataFrame\n",
       "Columns: [Country, Code, Year, Total, Land, Fossil]\n",
       "Index: []"
      ]
     },
     "execution_count": 47,
     "metadata": {},
     "output_type": "execute_result"
    }
   ],
   "source": [
    "heatmap[heatmap['Country']=='World']"
   ]
  },
  {
   "cell_type": "code",
   "execution_count": 48,
   "metadata": {},
   "outputs": [],
   "source": [
    "# heatmap.to_csv('fossil_land.csv', index=False)"
   ]
  },
  {
   "cell_type": "code",
   "execution_count": 49,
   "metadata": {},
   "outputs": [
    {
     "data": {
      "text/html": [
       "<div>\n",
       "<style scoped>\n",
       "    .dataframe tbody tr th:only-of-type {\n",
       "        vertical-align: middle;\n",
       "    }\n",
       "\n",
       "    .dataframe tbody tr th {\n",
       "        vertical-align: top;\n",
       "    }\n",
       "\n",
       "    .dataframe thead th {\n",
       "        text-align: right;\n",
       "    }\n",
       "</style>\n",
       "<table border=\"1\" class=\"dataframe\">\n",
       "  <thead>\n",
       "    <tr style=\"text-align: right;\">\n",
       "      <th></th>\n",
       "      <th>Country</th>\n",
       "      <th>Code</th>\n",
       "      <th>Year</th>\n",
       "      <th>Total</th>\n",
       "      <th>Land</th>\n",
       "      <th>Fossil</th>\n",
       "    </tr>\n",
       "  </thead>\n",
       "  <tbody>\n",
       "    <tr>\n",
       "      <th>8416</th>\n",
       "      <td>China</td>\n",
       "      <td>CHN</td>\n",
       "      <td>2022</td>\n",
       "      <td>1.237828e+10</td>\n",
       "      <td>981503740.0</td>\n",
       "      <td>1.139678e+10</td>\n",
       "    </tr>\n",
       "  </tbody>\n",
       "</table>\n",
       "</div>"
      ],
      "text/plain": [
       "     Country Code  Year         Total         Land        Fossil\n",
       "8416   China  CHN  2022  1.237828e+10  981503740.0  1.139678e+10"
      ]
     },
     "execution_count": 49,
     "metadata": {},
     "output_type": "execute_result"
    }
   ],
   "source": [
    "heatmap[(heatmap['Year']==2022) & (heatmap['Country']=='China')]"
   ]
  }
 ],
 "metadata": {
  "kernelspec": {
   "display_name": "base",
   "language": "python",
   "name": "python3"
  },
  "language_info": {
   "codemirror_mode": {
    "name": "ipython",
    "version": 3
   },
   "file_extension": ".py",
   "mimetype": "text/x-python",
   "name": "python",
   "nbconvert_exporter": "python",
   "pygments_lexer": "ipython3",
   "version": "3.11.5"
  }
 },
 "nbformat": 4,
 "nbformat_minor": 2
}

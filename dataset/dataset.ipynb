{
 "cells": [
  {
   "cell_type": "markdown",
   "metadata": {},
   "source": [
    "<h1>Dataset cleaning</h1>"
   ]
  },
  {
   "cell_type": "code",
   "execution_count": 232,
   "metadata": {},
   "outputs": [],
   "source": [
    "import pandas as pd"
   ]
  },
  {
   "cell_type": "code",
   "execution_count": 233,
   "metadata": {},
   "outputs": [
    {
     "name": "stdout",
     "output_type": "stream",
     "text": [
      "<class 'pandas.core.frame.DataFrame'>\n",
      "RangeIndex: 26600 entries, 0 to 26599\n",
      "Data columns (total 4 columns):\n",
      " #   Column                             Non-Null Count  Dtype  \n",
      "---  ------                             --------------  -----  \n",
      " 0   Entity                             26600 non-null  object \n",
      " 1   Code                               23046 non-null  object \n",
      " 2   Year                               26600 non-null  int64  \n",
      " 3   Annual CO₂ emissions (per capita)  26600 non-null  float64\n",
      "dtypes: float64(1), int64(1), object(2)\n",
      "memory usage: 831.4+ KB\n"
     ]
    }
   ],
   "source": [
    "emissions = pd.read_csv('co-emissions-per-capita.csv')\n",
    "emissions.info()"
   ]
  },
  {
   "cell_type": "code",
   "execution_count": 234,
   "metadata": {},
   "outputs": [
    {
     "data": {
      "text/html": [
       "<div>\n",
       "<style scoped>\n",
       "    .dataframe tbody tr th:only-of-type {\n",
       "        vertical-align: middle;\n",
       "    }\n",
       "\n",
       "    .dataframe tbody tr th {\n",
       "        vertical-align: top;\n",
       "    }\n",
       "\n",
       "    .dataframe thead th {\n",
       "        text-align: right;\n",
       "    }\n",
       "</style>\n",
       "<table border=\"1\" class=\"dataframe\">\n",
       "  <thead>\n",
       "    <tr style=\"text-align: right;\">\n",
       "      <th></th>\n",
       "      <th>Entity</th>\n",
       "      <th>Code</th>\n",
       "      <th>Year</th>\n",
       "      <th>CO2</th>\n",
       "    </tr>\n",
       "  </thead>\n",
       "  <tbody>\n",
       "    <tr>\n",
       "      <th>0</th>\n",
       "      <td>Afghanistan</td>\n",
       "      <td>AFG</td>\n",
       "      <td>1949</td>\n",
       "      <td>0.001992</td>\n",
       "    </tr>\n",
       "    <tr>\n",
       "      <th>1</th>\n",
       "      <td>Afghanistan</td>\n",
       "      <td>AFG</td>\n",
       "      <td>1950</td>\n",
       "      <td>0.011266</td>\n",
       "    </tr>\n",
       "    <tr>\n",
       "      <th>2</th>\n",
       "      <td>Afghanistan</td>\n",
       "      <td>AFG</td>\n",
       "      <td>1951</td>\n",
       "      <td>0.012098</td>\n",
       "    </tr>\n",
       "    <tr>\n",
       "      <th>3</th>\n",
       "      <td>Afghanistan</td>\n",
       "      <td>AFG</td>\n",
       "      <td>1952</td>\n",
       "      <td>0.011946</td>\n",
       "    </tr>\n",
       "    <tr>\n",
       "      <th>4</th>\n",
       "      <td>Afghanistan</td>\n",
       "      <td>AFG</td>\n",
       "      <td>1953</td>\n",
       "      <td>0.013685</td>\n",
       "    </tr>\n",
       "  </tbody>\n",
       "</table>\n",
       "</div>"
      ],
      "text/plain": [
       "        Entity Code  Year       CO2\n",
       "0  Afghanistan  AFG  1949  0.001992\n",
       "1  Afghanistan  AFG  1950  0.011266\n",
       "2  Afghanistan  AFG  1951  0.012098\n",
       "3  Afghanistan  AFG  1952  0.011946\n",
       "4  Afghanistan  AFG  1953  0.013685"
      ]
     },
     "execution_count": 234,
     "metadata": {},
     "output_type": "execute_result"
    }
   ],
   "source": [
    "emissions = emissions.rename(columns={\"Annual CO₂ emissions (per capita)\": \"CO2\"})\n",
    "emissions.head()"
   ]
  },
  {
   "cell_type": "code",
   "execution_count": 235,
   "metadata": {},
   "outputs": [],
   "source": [
    "micro_idx = (emissions['Entity']=='Micronesia (country)').fillna(False)\n",
    "wrl_inx = emissions['Code'].str.contains('OWID_WRL', na=False)\n",
    "kos_inx = emissions['Code'].str.contains('OWID_KOS', na=False)\n",
    "emissions.loc[micro_idx, 'Entity'] = 'Micronesia'\n",
    "emissions.loc[wrl_inx, 'Code'] = 'WRL'\n",
    "emissions.loc[kos_inx, 'Code'] = 'KOS'"
   ]
  },
  {
   "cell_type": "code",
   "execution_count": 236,
   "metadata": {},
   "outputs": [
    {
     "data": {
      "text/plain": [
       "array(['Africa', 'Asia', 'Asia (excl. China and India)', 'Europe',\n",
       "       'Europe (excl. EU-27)', 'Europe (excl. EU-28)',\n",
       "       'European Union (27)', 'European Union (28)',\n",
       "       'High-income countries', 'Low-income countries',\n",
       "       'Lower-middle-income countries', 'North America',\n",
       "       'North America (excl. USA)', 'Oceania', 'South America',\n",
       "       'Upper-middle-income countries', 'World'], dtype=object)"
      ]
     },
     "execution_count": 236,
     "metadata": {},
     "output_type": "execute_result"
    }
   ],
   "source": [
    "emissions_not_countries = emissions[(emissions['Code'].isnull()) | (emissions['Code']=='WRL')]\n",
    "emissions_not_countries['Entity'].unique()"
   ]
  },
  {
   "cell_type": "code",
   "execution_count": 237,
   "metadata": {},
   "outputs": [
    {
     "data": {
      "text/html": [
       "<div>\n",
       "<style scoped>\n",
       "    .dataframe tbody tr th:only-of-type {\n",
       "        vertical-align: middle;\n",
       "    }\n",
       "\n",
       "    .dataframe tbody tr th {\n",
       "        vertical-align: top;\n",
       "    }\n",
       "\n",
       "    .dataframe thead th {\n",
       "        text-align: right;\n",
       "    }\n",
       "</style>\n",
       "<table border=\"1\" class=\"dataframe\">\n",
       "  <thead>\n",
       "    <tr style=\"text-align: right;\">\n",
       "      <th></th>\n",
       "      <th>Entity</th>\n",
       "      <th>Code</th>\n",
       "      <th>Year</th>\n",
       "      <th>CO2</th>\n",
       "    </tr>\n",
       "  </thead>\n",
       "  <tbody>\n",
       "    <tr>\n",
       "      <th>0</th>\n",
       "      <td>Afghanistan</td>\n",
       "      <td>AFG</td>\n",
       "      <td>1949</td>\n",
       "      <td>0.001992</td>\n",
       "    </tr>\n",
       "    <tr>\n",
       "      <th>1</th>\n",
       "      <td>Afghanistan</td>\n",
       "      <td>AFG</td>\n",
       "      <td>1950</td>\n",
       "      <td>0.011266</td>\n",
       "    </tr>\n",
       "    <tr>\n",
       "      <th>2</th>\n",
       "      <td>Afghanistan</td>\n",
       "      <td>AFG</td>\n",
       "      <td>1951</td>\n",
       "      <td>0.012098</td>\n",
       "    </tr>\n",
       "    <tr>\n",
       "      <th>3</th>\n",
       "      <td>Afghanistan</td>\n",
       "      <td>AFG</td>\n",
       "      <td>1952</td>\n",
       "      <td>0.011946</td>\n",
       "    </tr>\n",
       "    <tr>\n",
       "      <th>4</th>\n",
       "      <td>Afghanistan</td>\n",
       "      <td>AFG</td>\n",
       "      <td>1953</td>\n",
       "      <td>0.013685</td>\n",
       "    </tr>\n",
       "  </tbody>\n",
       "</table>\n",
       "</div>"
      ],
      "text/plain": [
       "        Entity Code  Year       CO2\n",
       "0  Afghanistan  AFG  1949  0.001992\n",
       "1  Afghanistan  AFG  1950  0.011266\n",
       "2  Afghanistan  AFG  1951  0.012098\n",
       "3  Afghanistan  AFG  1952  0.011946\n",
       "4  Afghanistan  AFG  1953  0.013685"
      ]
     },
     "execution_count": 237,
     "metadata": {},
     "output_type": "execute_result"
    }
   ],
   "source": [
    "emissions_countries = emissions[emissions['Code'].notnull() & (emissions['Code']!='WRL')]\n",
    "emissions_countries.head()"
   ]
  },
  {
   "cell_type": "code",
   "execution_count": 238,
   "metadata": {},
   "outputs": [],
   "source": [
    "countries_continents = [\n",
    "    ('Afghanistan', 'Asia'), ('Albania', 'Europe'), ('Algeria', 'Africa'), ('Andorra', 'Europe'), \n",
    "    ('Angola', 'Africa'), ('Anguilla', 'North America'), ('Antigua and Barbuda', 'North America'), \n",
    "    ('Argentina', 'South America'), ('Armenia', 'Asia'), ('Aruba', 'North America'), \n",
    "    ('Australia', 'Oceania'), ('Austria', 'Europe'), ('Azerbaijan', 'Asia'), ('Bahamas', 'North America'), \n",
    "    ('Bahrain', 'Asia'), ('Bangladesh', 'Asia'), ('Barbados', 'North America'), ('Belarus', 'Europe'), \n",
    "    ('Belgium', 'Europe'), ('Belize', 'North America'), ('Benin', 'Africa'), ('Bermuda', 'North America'), \n",
    "    ('Bhutan', 'Asia'), ('Bolivia', 'South America'), ('Bonaire Sint Eustatius and Saba', 'North America'), \n",
    "    ('Bosnia and Herzegovina', 'Europe'), ('Botswana', 'Africa'), ('Brazil', 'South America'), \n",
    "    ('British Virgin Islands', 'North America'), ('Brunei', 'Asia'), ('Bulgaria', 'Europe'), \n",
    "    ('Burkina Faso', 'Africa'), ('Burundi', 'Africa'), ('Cambodia', 'Asia'), ('Cameroon', 'Africa'), \n",
    "    ('Canada', 'North America'), ('Cape Verde', 'Africa'), ('Central African Republic', 'Africa'), \n",
    "    ('Chad', 'Africa'), ('Chile', 'South America'), ('China', 'Asia'), ('Colombia', 'South America'), \n",
    "    ('Comoros', 'Africa'), ('Congo', 'Africa'), ('Cook Islands', 'Oceania'), ('Costa Rica', 'North America'), \n",
    "    (\"Cote d'Ivoire\", 'Africa'), ('Croatia', 'Europe'), ('Cuba', 'North America'), ('Curacao', 'North America'), \n",
    "    ('Cyprus', 'Europe'), ('Czechia', 'Europe'), ('Democratic Republic of Congo', 'Africa'), ('Denmark', 'Europe'), \n",
    "    ('Djibouti', 'Africa'), ('Dominica', 'North America'), ('Dominican Republic', 'North America'), \n",
    "    ('East Timor', 'Asia'), ('Ecuador', 'South America'), ('Egypt', 'Africa'), ('El Salvador', 'North America'), \n",
    "    ('Equatorial Guinea', 'Africa'), ('Eritrea', 'Africa'), ('Estonia', 'Europe'), ('Eswatini', 'Africa'), \n",
    "    ('Ethiopia', 'Africa'), ('Faroe Islands', 'Europe'), ('Fiji', 'Oceania'), ('Finland', 'Europe'), \n",
    "    ('France', 'Europe'), ('French Polynesia', 'Oceania'), ('Gabon', 'Africa'), ('Gambia', 'Africa'), \n",
    "    ('Georgia', 'Asia'), ('Germany', 'Europe'), ('Ghana', 'Africa'), ('Greece', 'Europe'), ('Greenland', 'North America'), \n",
    "    ('Grenada', 'North America'), ('Guatemala', 'North America'), ('Guinea', 'Africa'), ('Guinea-Bissau', 'Africa'), \n",
    "    ('Guyana', 'South America'), ('Haiti', 'North America'), ('Honduras', 'North America'), ('Hong Kong', 'Asia'), \n",
    "    ('Hungary', 'Europe'), ('Iceland', 'Europe'), ('India', 'Asia'), ('Indonesia', 'Asia'), ('Iran', 'Asia'), \n",
    "    ('Iraq', 'Asia'), ('Ireland', 'Europe'), ('Israel', 'Asia'), ('Italy', 'Europe'), ('Jamaica', 'North America'), \n",
    "    ('Japan', 'Asia'), ('Jordan', 'Asia'), ('Kazakhstan', 'Asia'), ('Kenya', 'Africa'), ('Kiribati', 'Oceania'), \n",
    "    ('Kosovo', 'Europe'), ('Kuwait', 'Asia'), ('Kyrgyzstan', 'Asia'), ('Laos', 'Asia'), ('Latvia', 'Europe'), \n",
    "    ('Lebanon', 'Asia'), ('Lesotho', 'Africa'), ('Liberia', 'Africa'), ('Libya', 'Africa'), ('Liechtenstein', 'Europe'), \n",
    "    ('Lithuania', 'Europe'), ('Luxembourg', 'Europe'), ('Macao', 'Asia'), ('Madagascar', 'Africa'), \n",
    "    ('Malawi', 'Africa'), ('Malaysia', 'Asia'), ('Maldives', 'Asia'), ('Mali', 'Africa'), ('Malta', 'Europe'), \n",
    "    ('Marshall Islands', 'Oceania'), ('Mauritania', 'Africa'), ('Mauritius', 'Africa'), ('Mexico', 'North America'), \n",
    "    ('Micronesia', 'Oceania'), ('Moldova', 'Europe'), ('Mongolia', 'Asia'), ('Montenegro', 'Europe'), \n",
    "    ('Montserrat', 'North America'), ('Morocco', 'Africa'), ('Mozambique', 'Africa'), ('Myanmar', 'Asia'), \n",
    "    ('Namibia', 'Africa'), ('Nauru', 'Oceania'), ('Nepal', 'Asia'), ('Netherlands', 'Europe'), \n",
    "    ('New Caledonia', 'Oceania'), ('New Zealand', 'Oceania'), ('Nicaragua', 'North America'), ('Niger', 'Africa'), \n",
    "    ('Nigeria', 'Africa'), ('Niue', 'Oceania'), ('North Korea', 'Asia'), ('North Macedonia', 'Europe'), \n",
    "    ('Norway', 'Europe'), ('Oman', 'Asia'), ('Pakistan', 'Asia'), ('Palau', 'Oceania'), ('Palestine', 'Asia'), \n",
    "    ('Panama', 'North America'), ('Papua New Guinea', 'Oceania'), ('Paraguay', 'South America'), \n",
    "    ('Peru', 'South America'), ('Philippines', 'Asia'), ('Poland', 'Europe'), ('Portugal', 'Europe'), \n",
    "    ('Qatar', 'Asia'), ('Romania', 'Europe'), ('Russia', 'Europe'), ('Rwanda', 'Africa'), ('Saint Helena', 'Africa'), \n",
    "    ('Saint Kitts and Nevis', 'North America'), ('Saint Lucia', 'North America'), \n",
    "    ('Saint Pierre and Miquelon', 'North America'), ('Saint Vincent and the Grenadines', 'North America'), \n",
    "    ('Samoa', 'Oceania'), ('Sao Tome and Principe', 'Africa'), ('Saudi Arabia', 'Asia'), ('Senegal', 'Africa'), \n",
    "    ('Serbia', 'Europe'), ('Seychelles', 'Africa'), ('Sierra Leone', 'Africa'), ('Singapore', 'Asia'), \n",
    "    ('Sint Maarten (Dutch part)', 'North America'), ('Slovakia', 'Europe'), ('Slovenia', 'Europe'), \n",
    "    ('Solomon Islands', 'Oceania'), ('Somalia', 'Africa'), ('South Africa', 'Africa'), ('South Korea', 'Asia'), \n",
    "    ('South Sudan', 'Africa'), ('Spain', 'Europe'), ('Sri Lanka', 'Asia'), ('Sudan', 'Africa'), \n",
    "    ('Suriname', 'South America'), ('Sweden', 'Europe'), ('Switzerland', 'Europe'), ('Syria', 'Asia'), \n",
    "    ('Taiwan', 'Asia'), ('Tajikistan', 'Asia'), ('Tanzania', 'Africa'), ('Thailand', 'Asia'), ('Togo', 'Africa'), \n",
    "    ('Tonga', 'Oceania'), ('Trinidad and Tobago', 'North America'), ('Tunisia', 'Africa'), ('Turkey', 'Asia'), \n",
    "    ('Turkmenistan', 'Asia'), ('Turks and Caicos Islands', 'North America'), ('Tuvalu', 'Oceania'), \n",
    "    ('Uganda', 'Africa'), ('Ukraine', 'Europe'), ('United Arab Emirates', 'Asia'), ('United Kingdom', 'Europe'), \n",
    "    ('United States', 'North America'), ('Uruguay', 'South America'), ('Uzbekistan', 'Asia'), ('Vanuatu', 'Oceania'),\n",
    "    ('Venezuela', 'South America'), ('Vietnam', 'Asia'), ('Wallis and Futuna', 'Oceania'), \n",
    "    ('Yemen', 'Asia'), ('Zambia', 'Africa'), ('Zimbabwe', 'Africa')\n",
    "]\n"
   ]
  },
  {
   "cell_type": "code",
   "execution_count": 239,
   "metadata": {},
   "outputs": [
    {
     "name": "stderr",
     "output_type": "stream",
     "text": [
      "/var/folders/2l/3p8f5_wj2v97fh712bdsl8q40000gn/T/ipykernel_13418/4183848791.py:2: SettingWithCopyWarning: \n",
      "A value is trying to be set on a copy of a slice from a DataFrame.\n",
      "Try using .loc[row_indexer,col_indexer] = value instead\n",
      "\n",
      "See the caveats in the documentation: https://pandas.pydata.org/pandas-docs/stable/user_guide/indexing.html#returning-a-view-versus-a-copy\n",
      "  emissions_countries.loc[emissions_countries['Entity']==country, 'Continent'] = continent\n"
     ]
    }
   ],
   "source": [
    "for country, continent in countries_continents:\n",
    "    emissions_countries.loc[emissions_countries['Entity']==country, 'Continent'] = continent"
   ]
  },
  {
   "cell_type": "code",
   "execution_count": 240,
   "metadata": {},
   "outputs": [],
   "source": [
    "emissions_countries.Continent.unique()\n",
    "emissions_countries.to_csv('emissions_countries.csv', index=False)"
   ]
  },
  {
   "cell_type": "code",
   "execution_count": 241,
   "metadata": {},
   "outputs": [],
   "source": [
    "emissions_2022_countries = emissions_countries[emissions_countries['Year'] == 2022]\n",
    "emissions_2022_countries = emissions_2022_countries.drop(columns=['Year'])\n",
    "emissions_2022_countries = emissions_2022_countries.sort_values(by='CO2', ascending=False).reset_index(drop=True)\n",
    "emissions_2022_countries.shape\n",
    "emissions_2022_countries.to_csv('emissions_2022_countries.csv', index=False)"
   ]
  },
  {
   "cell_type": "code",
   "execution_count": 242,
   "metadata": {},
   "outputs": [
    {
     "data": {
      "text/plain": [
       "4.581112053560747"
      ]
     },
     "execution_count": 242,
     "metadata": {},
     "output_type": "execute_result"
    }
   ],
   "source": [
    "emissions_2022_countries['CO2'].mean()"
   ]
  },
  {
   "cell_type": "markdown",
   "metadata": {},
   "source": [
    "BONUS: \"Emissions from international aviation and shipping are not included in any country or region's emissions. They are only included in the global total emissions.\""
   ]
  },
  {
   "cell_type": "code",
   "execution_count": 243,
   "metadata": {},
   "outputs": [
    {
     "data": {
      "text/html": [
       "<div>\n",
       "<style scoped>\n",
       "    .dataframe tbody tr th:only-of-type {\n",
       "        vertical-align: middle;\n",
       "    }\n",
       "\n",
       "    .dataframe tbody tr th {\n",
       "        vertical-align: top;\n",
       "    }\n",
       "\n",
       "    .dataframe thead th {\n",
       "        text-align: right;\n",
       "    }\n",
       "</style>\n",
       "<table border=\"1\" class=\"dataframe\">\n",
       "  <thead>\n",
       "    <tr style=\"text-align: right;\">\n",
       "      <th></th>\n",
       "      <th>Entity</th>\n",
       "      <th>Code</th>\n",
       "      <th>CO2</th>\n",
       "      <th>Continent</th>\n",
       "    </tr>\n",
       "  </thead>\n",
       "  <tbody>\n",
       "    <tr>\n",
       "      <th>0</th>\n",
       "      <td>Qatar</td>\n",
       "      <td>QAT</td>\n",
       "      <td>37.601273</td>\n",
       "      <td>Asia</td>\n",
       "    </tr>\n",
       "    <tr>\n",
       "      <th>1</th>\n",
       "      <td>United Arab Emirates</td>\n",
       "      <td>ARE</td>\n",
       "      <td>25.833244</td>\n",
       "      <td>Asia</td>\n",
       "    </tr>\n",
       "    <tr>\n",
       "      <th>2</th>\n",
       "      <td>Bahrain</td>\n",
       "      <td>BHR</td>\n",
       "      <td>25.672274</td>\n",
       "      <td>Asia</td>\n",
       "    </tr>\n",
       "    <tr>\n",
       "      <th>3</th>\n",
       "      <td>Kuwait</td>\n",
       "      <td>KWT</td>\n",
       "      <td>25.578102</td>\n",
       "      <td>Asia</td>\n",
       "    </tr>\n",
       "    <tr>\n",
       "      <th>4</th>\n",
       "      <td>Brunei</td>\n",
       "      <td>BRN</td>\n",
       "      <td>23.950201</td>\n",
       "      <td>Asia</td>\n",
       "    </tr>\n",
       "  </tbody>\n",
       "</table>\n",
       "</div>"
      ],
      "text/plain": [
       "                 Entity Code        CO2 Continent\n",
       "0                 Qatar  QAT  37.601273      Asia\n",
       "1  United Arab Emirates  ARE  25.833244      Asia\n",
       "2               Bahrain  BHR  25.672274      Asia\n",
       "3                Kuwait  KWT  25.578102      Asia\n",
       "4                Brunei  BRN  23.950201      Asia"
      ]
     },
     "execution_count": 243,
     "metadata": {},
     "output_type": "execute_result"
    }
   ],
   "source": [
    "emissions_2022_countries.head()"
   ]
  }
 ],
 "metadata": {
  "kernelspec": {
   "display_name": "base",
   "language": "python",
   "name": "python3"
  },
  "language_info": {
   "codemirror_mode": {
    "name": "ipython",
    "version": 3
   },
   "file_extension": ".py",
   "mimetype": "text/x-python",
   "name": "python",
   "nbconvert_exporter": "python",
   "pygments_lexer": "ipython3",
   "version": "3.11.5"
  }
 },
 "nbformat": 4,
 "nbformat_minor": 2
}
